{
 "cells": [
  {
   "cell_type": "markdown",
   "metadata": {},
   "source": [
    "# **Computational thingking**"
   ]
  },
  {
   "cell_type": "markdown",
   "metadata": {},
   "source": [
    "Computational includes the following 4 components :\n",
    "+ *Decomposition*: Decomposition is about breaking a difficult problem down into simple and easy manage part \n",
    "+ *Pattern Recognition*: Pattern Recognition is about spotting what different problem have in common, such as: car, plane , train is transport \n",
    "+ *Abstraction*: Abstraction , we need to care detail matter  and ignore detail not important\n",
    "+ *Algorithm thinking*:  We find solution about detail matter\n",
    "<img src=\"https://s3-us-west-2.amazonaws.com/robogarden-new/Articles/upload/blogs/lg-the-possibilities-are-endless-with-computational-thinking.jpg\" width=\"400\" height=\"400\">"
   ]
  },
  {
   "cell_type": "markdown",
   "metadata": {},
   "source": [
    "## Decomposition"
   ]
  },
  {
   "cell_type": "markdown",
   "metadata": {},
   "source": [
    "## Pattern recognition"
   ]
  },
  {
   "cell_type": "markdown",
   "metadata": {},
   "source": [
    "## Abstraction"
   ]
  },
  {
   "cell_type": "markdown",
   "metadata": {},
   "source": [
    "## Algorithm thinking"
   ]
  }
 ],
 "metadata": {
  "kernelspec": {
   "display_name": "Python 3",
   "language": "python",
   "name": "python3"
  },
  "language_info": {
   "codemirror_mode": {
    "name": "ipython",
    "version": 3
   },
   "file_extension": ".py",
   "mimetype": "text/x-python",
   "name": "python",
   "nbconvert_exporter": "python",
   "pygments_lexer": "ipython3",
   "version": "3.7.3"
  }
 },
 "nbformat": 4,
 "nbformat_minor": 4
}
