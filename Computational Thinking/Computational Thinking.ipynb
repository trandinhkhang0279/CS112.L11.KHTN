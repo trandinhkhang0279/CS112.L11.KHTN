{
 "cells": [
  {
   "cell_type": "markdown",
   "metadata": {},
   "source": [
    "# **Tư duy máy tính ( Computational thinking)**"
   ]
  },
  {
   "cell_type": "markdown",
   "metadata": {},
   "source": [
    "## Lịch sử phát triển\n",
    "Tư duy máy tính đã được hình thành và phát triển từ những năm 1950. Nhưng cụm từ \"Computational thinking\" (tư duy máy tính ) được sử dụng lần đầu tiền bởi Seymour Papert vào năm 1980. Ở thời điểm này việc áp dụng tư duy máy tính chưa thực sự rỗng rãi. Mãi cho tới năm 2006 khi bài luận của Jeannette Wing nói về vấn đề này được thảo luận tại  [ACM](https://en.wikipedia.org/wiki/Association_for_Computing_Machinery) Communications. Bài luận đã cho thấy rằng tư duy máy tính không chỉ áp dụng cho giới khoa học máy tính mà đó làm một kĩ năng cần thiết cho mọi người. Nó có thể áp dụng cho các môn học tại trường cho mọi người. Vậy chúng ta cùng tìm hiểu tại sao tư duy máy tính là thứ cần thiết cho mọi người. \n",
    "<div class=\"container\" style=\"display: flex; justify-content: space-between; text-align: center; margin: auto;\"> \n",
    "        <figure style=\"margin-right: 6rem;\">\n",
    "            <img width =\"250\" height=\"250\" src=\"https://upload.wikimedia.org/wikipedia/commons/b/b6/Papert.jpg\" alt=\"pic\" >\n",
    "            <figcaption>Seymour Papert</figcaption>\n",
    "        </figure>\n",
    "        <figure style=\"margin-right: 6rem;\">\n",
    "            <img width =\"300\" height=\"300\" src=\"https://upload.wikimedia.org/wikipedia/commons/thumb/7/77/Jeannette_Wing%2C_Davos_2013.jpg/330px-Jeannette_Wing%2C_Davos_2013.jpg\" alt=\"pic\" >\n",
    "            <figcaption>Jeannette Wing</figcaption>\n",
    "        </figure>  \n",
    " </div>\n",
    "\n",
    "\n"
   ]
  },
  {
   "cell_type": "markdown",
   "metadata": {},
   "source": [
    "Tư duy máy tính bao gồm 4 thành phần :\n",
    "+ *Phân rã (Decomposition)*\n",
    "+ *Nhận diện mẫu (Pattern Recognition)*\n",
    "+ *Trừu tượng hóa (Abstraction)*\n",
    "+ *Tư duy thuật toán (Algorithm thinking)*\n",
    "<img src=\"https://s3-us-west-2.amazonaws.com/robogarden-new/Articles/upload/blogs/lg-the-possibilities-are-endless-with-computational-thinking.jpg\" width=\"400\" height=\"400\">\n",
    "\n",
    "Để tìm hiểu về tư duy máy tính thì chúng ta cùng sử dụng ví dụ sau để ví dụ trong xuyên suốt 4 giai đoạn.\n",
    "\n",
    "**Ví dụ**: Vào một ngày đẹp trời có mây nhưng lại không có gió. Trí đi học về và mong muốn có những giây phút thư giãn trên chiếc giường của mình. Anh ta đã về tới phòng, ngã lưng xuống giường .Nhưng đời không như mơ, cái quạt của Trí hôm nay lại không hoạt động. Loay hoay một hoài Trí mới nhớ mình vừa học xong Computational thinking nên anh thử áp dụng phương pháp này vào việc sữa máy quạt. "
   ]
  },
  {
   "cell_type": "markdown",
   "metadata": {},
   "source": [
    "## Decomposition\n",
    "Ở bước đầu tiền này chúng ta sẽ chia nhỏ vấn đề đang xử lí ra thành các vấn đề nhỏ hơn để dễ dàng cho việc xử lí, dễ hình dùng được hướng đi cho việc giải quyết vấn đề. \n",
    "\n",
    "Ví dụ:\n",
    "Với chiếc quạt bị hư như trên thì Trí suy nghĩ có lẽ mình phải cần kiểm tra: nút điểu khiển quạt, nguồn điện, đường dây điện trong quạt, động cơ. Vậy đó chính là các vấn đề nhỏ mà Trí cần phải làm để sửa được quạt "
   ]
  },
  {
   "cell_type": "markdown",
   "metadata": {},
   "source": [
    "## Pattern recognition\n",
    "Ở bước tiếp theo này chúng ta tiến hành nhận dạng những vấn đề chúng ta đang giải quyết so với những vấn đề trước đó ta từng xử lí, tìm ra nét tương đồng giữa chúng và bắt đầu hình dung cách làm\n",
    "\n",
    "Ví dụ: Với kinh nghiệm là dân IT nhưng có nhiều năm sửa điện trong nhà thì Trí có kha khá kiến thức về vấn đề thiết bị điện tử. Những vấn đề này sẽ có nét tương đồng với việc sửa nối cơm điện, bếp điện,....Về nguồn điện thì có thể kiểm tra bằng bút thử điện và thường nguồn điện ít có lỗi nhất, nút điểu khiển thì trước đó anh đã cố gắng bật nhiều lần nhưng ko có vấn đề gì. Vì thế Trí chỉ tập trung vào bước kiểm tra dây dẫn và động cơ\n",
    "\n",
    "Chúng ta thấy được gì từ ví dụ trên ? Ở giai đoạn này Trí đã tìm những nét tương đồng với những kinh nghiệm trước đó cho việc sữa chữa đồ điện và anh biết vấn đề thường xuyên xảy ra ở đâu nhất "
   ]
  },
  {
   "cell_type": "markdown",
   "metadata": {},
   "source": [
    "## Abstraction\n",
    "Ở phần này chúng ta sẽ loại bỏ những phần râu ria của vấn đề và tập trung định hình được công việc quan trọng nhất cần thực hiện là gì.\n",
    "\n",
    "Ví dụ: Khi kiểm tra dây dẫn và động cơ. Trí nhận thấy thứ mình cần kiểm tra đầu tiên chính là dây nguồn của máy quạt, Trí nghĩ đây là phần đầu tiên của hệ thống dây dẫn, nơi cho nguồn điền đầu tiên đi vào và quan trọng đây chính là thành phần dễ bị tác động từ các yếu tố bên ngoài nhất. Nên Trí tập trung kiểm tra đoạn dây nguồn này. "
   ]
  },
  {
   "cell_type": "markdown",
   "metadata": {},
   "source": [
    "## Algorithm thinking\n",
    "Từ 3 bước trên ta sẽ tạo ra một giải pháp cụ thể để giải quyết được vấn đề. Giải pháp này phải giúp con người có thể hiểu thực hiện được hoặc là máy tính có thể triển khai được giải pháp. \n",
    "\n",
    "Ví dụ: Thật may mắn khi Trí phát hiện được một đoạn dây bị đứt tại phần dây nguồn. Anh bắt đầu nhớ lại những gì mình đã làm trước đó với trường hợp này và hình dung ra cách làm. \n",
    "Step 1: Cắt hẳn đoạn dây bị đứt và tuốt phần nhựa bên ngoài 2 đầu dây\n",
    "Step 2: Nối 2 đoạn dây lại\n",
    "Step 3: Dùng keo để dán cách điện cho đoạn dây vừa được nối lại\n",
    "\n",
    "Vâng chỉ với vài bước đơn giản máy quạt đã hoạt động trở lại. Trí đang tận hưởng giây phút thoải mái trên giường của mình "
   ]
  },
  {
   "cell_type": "markdown",
   "metadata": {},
   "source": [
    "## Nguồn tham khảo\n",
    "* https://en.wikipedia.org/wiki/Computational_thinking\n",
    "* https://www.youtube.com/watch?v=mUXo-S7gzds&feature=emb_logo"
   ]
  },
  {
   "cell_type": "code",
   "execution_count": null,
   "metadata": {},
   "outputs": [],
   "source": []
  }
 ],
 "metadata": {
  "kernelspec": {
   "display_name": "Python 3",
   "language": "python",
   "name": "python3"
  },
  "language_info": {
   "codemirror_mode": {
    "name": "ipython",
    "version": 3
   },
   "file_extension": ".py",
   "mimetype": "text/x-python",
   "name": "python",
   "nbconvert_exporter": "python",
   "pygments_lexer": "ipython3",
   "version": "3.7.3"
  }
 },
 "nbformat": 4,
 "nbformat_minor": 4
}
