{
  "nbformat": 4,
  "nbformat_minor": 0,
  "metadata": {
    "colab": {
      "name": "SUM3.ipynb",
      "provenance": [],
      "collapsed_sections": [],
      "authorship_tag": "ABX9TyOaLNJeGSuK7B9hh62BYrxH",
      "include_colab_link": true
    },
    "kernelspec": {
      "name": "python3",
      "display_name": "Python 3"
    }
  },
  "cells": [
    {
      "cell_type": "markdown",
      "metadata": {
        "id": "view-in-github",
        "colab_type": "text"
      },
      "source": [
        "<a href=\"https://colab.research.google.com/github/trandinhkhang0279/CS112.L11.KHTN/blob/master/SummaryLecture/SUM3.ipynb\" target=\"_parent\"><img src=\"https://colab.research.google.com/assets/colab-badge.svg\" alt=\"Open In Colab\"/></a>"
      ]
    },
    {
      "cell_type": "markdown",
      "metadata": {
        "id": "o4yS8SKdlgAz"
      },
      "source": [
        "# Nhóm N012 ([Chi tiết tại đây](https://github.com/trandinhkhang0279/CS112.L11.KHTN/blob/master/README.md))"
      ]
    },
    {
      "cell_type": "markdown",
      "metadata": {
        "id": "6L7bWaFBlpNs"
      },
      "source": [
        "###TÓM TẮT BÀI GIẢNG BUỔI 3"
      ]
    },
    {
      "cell_type": "markdown",
      "metadata": {
        "id": "e5Bn6UeDlpa5"
      },
      "source": [
        "1. Các nội dung đã thực hiện trong buổi học:\n",
        "- Thông báo lịch seminar theo lịch đã đăng ký. Thầy nói về cách chuẩn bị cho việc thuyết trình, cần chuẩn bị như thế nào cho từng phần.\n",
        "- Đưa ra 2 bài tập thực hành mới là H_index và water_supply\n",
        "- Mời một số nhóm tiêu biểu đã giải quyết được bài đếm sao lên trình bày cho tất cả bạn hiểu (kết quả: vẫn khá khó hiểu)\n",
        "\n",
        "2. Các nội dung lí thuyết và bài tập trọng tâm của buổi học:\n",
        "- H_index (đã xong)\n",
        "- water_supply (tìm hiểu thuật toán prufer)\n",
        "3. Các nội dung khác:\n",
        "- Nội dung thảo luận nhóm\n",
        "  - teamwork giải quyêts được bài H_index, water_supply vẫn chưa chính xác 100%\n",
        "  - Thảo luận, phân chia công việc cho nội dung đã chọn là Completed search branch and bound algorithm  "
      ]
    }
  ]
}