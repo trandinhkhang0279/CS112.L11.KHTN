{
  "nbformat": 4,
  "nbformat_minor": 0,
  "metadata": {
    "colab": {
      "name": "SUM4.ipynb",
      "provenance": [],
      "collapsed_sections": [],
      "authorship_tag": "ABX9TyNLbtDKxg5Jcr18Lz9uCNpL",
      "include_colab_link": true
    },
    "kernelspec": {
      "name": "python3",
      "display_name": "Python 3"
    }
  },
  "cells": [
    {
      "cell_type": "markdown",
      "metadata": {
        "id": "view-in-github",
        "colab_type": "text"
      },
      "source": [
        "<a href=\"https://colab.research.google.com/github/trandinhkhang0279/CS112.L11.KHTN/blob/Vutd/SummaryLecture/SUM4.ipynb\" target=\"_parent\"><img src=\"https://colab.research.google.com/assets/colab-badge.svg\" alt=\"Open In Colab\"/></a>"
      ]
    },
    {
      "cell_type": "markdown",
      "metadata": {
        "id": "hrD1w-FbZEwN"
      },
      "source": [
        "# Nhóm N012 ([Chi tiết tại đây](https://github.com/trandinhkhang0279/CS112.L11.KHTN/blob/master/README.md))"
      ]
    },
    {
      "cell_type": "markdown",
      "metadata": {
        "id": "w2I1xmVBZGsH"
      },
      "source": [
        "# **Tóm tắt bài giảng buổi 4**\n",
        "\n",
        "## 1. Các nội dung đã thực hiên trong buổi học\n",
        "- Hai bài thực hành mới là **đổi mới** và **tái cấu trúc**\n",
        "- Nhóm đầu tiên lên thuyết trình về bài \"*Kiểm tra tính đún đắn & hiệu năng của chương trình bằng bộ test*\"\n",
        "- Đặt câu hỏi cho nhóm (chú ý đến cách đặt câu hỏi)\n",
        "- Câu hỏi quan trọng: các thao khảo tài liệu tham khảo cho hợp lý, phần nào cần cho vào nội dung thuyết trình, phần nào không (vì sao)\n",
        "\n",
        "## 2. Các nội dung lý thuyết và bài tập trọng tâm trong buổi học\n",
        "- Nôi dung thuyết trình : \"*Kiểm tra tính đúng đắn và hiệu năng của chương trình bằng bộ test*\"\n",
        "  - Bộ test\n",
        "    - input - output\n",
        "    - Trình chấm (checker)\n",
        "  - Cấu trúc trình chấm\n",
        "  - Yêu cầu bộ test\n",
        "    - Test thường (normal test)\n",
        "    - Test biên (boundary test)\n",
        "    - Test đặc biệt (abnormal test)\n",
        "  \n",
        "- Bài **đổi mới** có thể quy thành công thức : a(day-day//k) +b(day - day//m) >= n (tìm day nhỏ nhất thỏa mãn)\n",
        "\n",
        "## 3. Các nội dung khác\n",
        "- teamwoek tìm câu hỏi cho nội dung thuyết trình\n",
        "- chia công việc cho các thành viên\n"
      ]
    }
  ]
}