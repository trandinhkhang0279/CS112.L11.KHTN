{
  "nbformat": 4,
  "nbformat_minor": 0,
  "metadata": {
    "kernelspec": {
      "display_name": "Python 3",
      "language": "python",
      "name": "python3"
    },
    "language_info": {
      "codemirror_mode": {
        "name": "ipython",
        "version": 2
      },
      "file_extension": ".py",
      "mimetype": "text/x-python",
      "name": "python",
      "nbconvert_exporter": "python",
      "pygments_lexer": "ipython2",
      "version": "2.7.6"
    },
    "colab": {
      "name": "SUM2.ipynb",
      "provenance": [],
      "collapsed_sections": [],
      "include_colab_link": true
    }
  },
  "cells": [
    {
      "cell_type": "markdown",
      "metadata": {
        "id": "view-in-github",
        "colab_type": "text"
      },
      "source": [
        "<a href=\"https://colab.research.google.com/github/trandinhkhang0279/CS112.L11.KHTN/blob/master/SummaryLecture/SUM2.ipynb\" target=\"_parent\"><img src=\"https://colab.research.google.com/assets/colab-badge.svg\" alt=\"Open In Colab\"/></a>"
      ]
    },
    {
      "cell_type": "markdown",
      "metadata": {
        "collapsed": true,
        "pycharm": {
          "name": "#%% md\n"
        },
        "id": "TNHVg7bOLgLa"
      },
      "source": [
        "# Nhóm N012 ([Chi tiết tại đây](https://github.com/trandinhkhang0279/CS112.L11.KHTN/blob/master/README.md))\n",
        "[![Open In Colab](https://colab.research.google.com/assets/colab-badge.svg)](https://colab.research.google.com/github/trandinhkhang0279/CS112.L11.KHTN/blob/master/SummaryLecture/SUM2.ipynb)"
      ]
    },
    {
      "cell_type": "markdown",
      "metadata": {
        "collapsed": false,
        "id": "9X430finLgLb"
      },
      "source": [
        "## Tóm tắt bài giảng buổi 2\n",
        "\n",
        "1. Các nội dung đã thực hiện trong buổi học:\n",
        "- Bàn luận, suy nghĩ, đề ra ý tưởng để giải quyết 2 bài tập là Tảo Biển và Đếm sao.\n",
        "- Phân nhóm thuyết trình nội dụng bài học cho các buổi tiếp theo\n",
        "- Thầy nhận xét bài làm tuần 1 của các nhóm, đưa ra các ưu điểm của các nhóm làm tốt như trình bày rõ ràng, dễ hiểu để ai đọc vào cũng có thế code bằng ngôn ngữ khác. Một số nhược điểm cần khắc phục như là thiếu \"tâm\" vào bài làm ...\n",
        "\n",
        "\n",
        "2. Các nội dung lí thuyết và bài tập trọng tâm của buổi học:\n",
        "- Đếm sao\n",
        "- Tảo biển\n",
        "\n",
        "3. Các nội dung khác:\n",
        "- Đã giải quyết được bài tảo biển\n",
        "- Thảo luận, phân chia công việc cho nội dung đã chọn là Completed search branch and bound algorithm  "
      ]
    },
    {
      "cell_type": "code",
      "metadata": {
        "id": "6YZEhSTBOksH"
      },
      "source": [
        ""
      ],
      "execution_count": null,
      "outputs": []
    },
    {
      "cell_type": "code",
      "metadata": {
        "id": "DdJeUaL-OeLf"
      },
      "source": [
        ""
      ],
      "execution_count": null,
      "outputs": []
    }
  ]
}