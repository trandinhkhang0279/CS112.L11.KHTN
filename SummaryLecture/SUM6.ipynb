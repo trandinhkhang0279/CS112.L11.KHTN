{
  "nbformat": 4,
  "nbformat_minor": 0,
  "metadata": {
    "colab": {
      "name": "SUM3.ipynb",
      "provenance": [],
      "collapsed_sections": []
    },
    "kernelspec": {
      "name": "python3",
      "display_name": "Python 3"
    }
  },
  "cells": [
    {
      "cell_type": "markdown",
      "metadata": {
        "id": "o4yS8SKdlgAz"
      },
      "source": [
        "# Nhóm N012 ([Chi tiết tại đây](https://github.com/trandinhkhang0279/CS112.L11.KHTN/blob/master/README.md))"
      ]
    },
    {
      "cell_type": "markdown",
      "metadata": {
        "id": "6L7bWaFBlpNs"
      },
      "source": [
        "###TÓM TẮT BÀI GIẢNG BUỔI 6"
      ]
    },
    {
      "cell_type": "markdown",
      "metadata": {
        "id": "e5Bn6UeDlpa5"
      },
      "source": [
        "1. Các nội dung đã thực hiện trong buổi học: \n",
        "- đọc tutorial, làm lại bài Cyclick Isomorphism (vẫn chưa làm được trong buổi học) \n",
        "- tiếp nhận hai bài mới\n",
        "  - Mức độ giống nhau (đã giải quyết trong buổi học)\n",
        "  - Địa lan\n",
        "\n",
        "2. Các nội dung lí thuyết và bài tập trọng tâm của buổi học:\n",
        "- Nhóm thuyết trình xin dời lịch thuyết trình\n",
        "\n",
        "3. Các nội dung khác:\n"
      ]
    }
  ]
}