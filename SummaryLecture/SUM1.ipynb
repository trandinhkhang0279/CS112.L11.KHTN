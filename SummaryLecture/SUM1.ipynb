{
 "cells": [
  {
   "cell_type": "markdown",
   "source": [
    "# Nhóm N012 ([Chi tiết tại đây](https://github.com/trandinhkhang0279/CS112.L11.KHTN/blob/master/README.md))\n",
    "[![Open This File In Colab](https://colab.research.google.com/assets/colab-badge.svg)](https://colab.research.google.com/github/trandinhkhang0279/CS112.L11.KHTN/blob/master/SummaryLecture/SUM1.ipynb)"
   ],
   "metadata": {
    "collapsed": false
   }
  },
  {
   "cell_type": "markdown",
   "source": [
    "## Tóm tắt bài giảng buổi 1"
   ],
   "metadata": {
    "collapsed": false
   }
  }
 ],
 "metadata": {
  "kernelspec": {
   "display_name": "Python 3",
   "language": "python",
   "name": "python3"
  },
  "language_info": {
   "codemirror_mode": {
    "name": "ipython",
    "version": 2
   },
   "file_extension": ".py",
   "mimetype": "text/x-python",
   "name": "python",
   "nbconvert_exporter": "python",
   "pygments_lexer": "ipython2",
   "version": "2.7.6"
  }
 },
 "nbformat": 4,
 "nbformat_minor": 0
}