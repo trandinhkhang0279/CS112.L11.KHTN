{
  "nbformat": 4,
  "nbformat_minor": 0,
  "metadata": {
    "colab": {
      "name": "SUM9.ipynb",
      "private_outputs": true,
      "provenance": [],
      "authorship_tag": "ABX9TyPX4+PpLBOhIKBacYiIeKbw",
      "include_colab_link": true
    },
    "kernelspec": {
      "name": "python3",
      "display_name": "Python 3"
    }
  },
  "cells": [
    {
      "cell_type": "markdown",
      "metadata": {
        "id": "view-in-github",
        "colab_type": "text"
      },
      "source": [
        "<a href=\"https://colab.research.google.com/github/trandinhkhang0279/CS112.L11.KHTN/blob/Vutd/SummaryLecture/SUM9.ipynb\" target=\"_parent\"><img src=\"https://colab.research.google.com/assets/colab-badge.svg\" alt=\"Open In Colab\"/></a>"
      ]
    },
    {
      "cell_type": "markdown",
      "metadata": {
        "id": "rLeiIfRAWawS"
      },
      "source": [
        "# Nhóm N012 ([Chi tiết tại đây](https://github.com/trandinhkhang0279/CS112.L11.KHTN/blob/master/README.md))"
      ]
    },
    {
      "cell_type": "markdown",
      "metadata": {
        "id": "P3Ctbm3MWctV"
      },
      "source": [
        "###TÓM TẮT BÀI GIẢNG BUỔI 9"
      ]
    },
    {
      "cell_type": "markdown",
      "metadata": {
        "id": "jFds0AQqWfJz"
      },
      "source": [
        "1. Các nội dung đã thực hiện trong buổi học: \n",
        "- Tham gia buổi học lớp tân binh ALGO bootcamp của Thầy Tùng\n",
        "- Hiểu được cách thầy phân tích một bài toán\n",
        "\n",
        "2. Các nội dung lí thuyết và bài tập trọng tâm của buổi học:\n",
        "- Muốn giải ra một bài toán cần phải kết hợp cả \"Nghệ thuật\" trong đó.\n",
        "\n",
        "3. Các nội dung khác:\n",
        "- Không có\n"
      ]
    }
  ]
}