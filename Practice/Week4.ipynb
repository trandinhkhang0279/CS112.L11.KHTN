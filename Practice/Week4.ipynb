{
  "nbformat": 4,
  "nbformat_minor": 0,
  "metadata": {
    "kernelspec": {
      "display_name": "Python 3",
      "language": "python",
      "name": "python3"
    },
    "language_info": {
      "codemirror_mode": {
        "name": "ipython",
        "version": 3
      },
      "file_extension": ".py",
      "mimetype": "text/x-python",
      "name": "python",
      "nbconvert_exporter": "python",
      "pygments_lexer": "ipython3",
      "version": "3.7.3"
    },
    "colab": {
      "name": "Week4.ipynb",
      "provenance": [],
      "collapsed_sections": []
    }
  },
  "cells": [
    {
      "cell_type": "markdown",
      "metadata": {
        "collapsed": true,
        "pycharm": {
          "name": "#%% md\n"
        },
        "id": "0lku70kKGkdx"
      },
      "source": [
        "[![Open In Colab](https://colab.research.google.com/assets/colab-badge.svg)](https://colab.research.google.com/github/trandinhkhang0279/CS112.L11.KHTN/blob/master/Practice/Week4.ipynb)\n",
        "# Nhóm N012 ([Chi tiết tại đây](https://github.com/trandinhkhang0279/CS112.L11.KHTN/blob/master/README.md))\n",
        "\n",
        "* Trần Đình Khang-18520896\n",
        "* Phạm Xuân Trí-18521530\n",
        "* Trương Đức Vũ-18520194\n",
        "\n",
        "# BÀI TẬP TUẦN 4"
      ]
    },
    {
      "cell_type": "markdown",
      "metadata": {
        "pycharm": {
          "name": "#%% md\n"
        },
        "id": "ZKcYG2BgGkdy"
      },
      "source": [
        "# Bài toán 1: Đổi mới\n",
        "## 1. [Đề bài]\n",
        "\n",
        "Thành phố quyết định chặt hạ hết $n$ cây xanh hiện có trong thành phố để trồng chỉ một loại cây mới. Nhiệm vụ được giao cho Công ty Cây xanh thành phố. Do hạn chế về thiết bị Công ty chỉ tổ chức được $2$ đội đốn hạ cây. Đội $I$ hạ được $a$ cây mỗi ngày, nhưng cứ mối ngày thứ $k$ thì phải nghỉ để bảo dưỡng kỹ thuật, tức là đội $I$ sẽ nghỉ vào các ngày $k, 2k, 3k, . . .$ Đội $II$ hạ được $b$ cây mỗi ngày, nhưng cứ mỗi ngày thứ $m$ thì phải nghỉ để bảo dưỡng kỹ thuật, tức là đội $II$ sẽ nghỉ vào các ngày $m, 2m, 3m, . . .$ Ở ngày nghỉ, số cây chặt hạ của đội sẽ là $0$. Cả hai đội bắt đầu công việc vào cùng một ngày và làm việc song song với nhau.\n",
        "\n",
        "Công việc trồng cây mới sẽ bắt đầu sau khi toàn bộ cây cũ đã bị đốn hạ.\n",
        "\n",
        "Hãy xác định sau bao nhiêu ngày thì có thể bắt đầu việc trồng mới cây.\n",
        "\n",
        "Dữ liệu:\n",
        "\n",
        "Vào từ thiết bị nhập chuẩn gồm một dòng chứa 5 số nguyên $a, k, b, m$ và $n$ $(1 \\le a, b \\le 10^9, 2 \\le k, m \\le 10^{18}, 1 \\le n \\le 10^{18})$.\n",
        "Kết quả:\n",
        "\n",
        "Đưa ra thiết bị xuất chuẩn một số nguyên – số ngày tính được.\n",
        "\n",
        "\n",
        "INPUT\tOUTPUT\n",
        "2 4 3 3 25\t7\t"
      ]
    },
    {
      "cell_type": "markdown",
      "metadata": {
        "id": "hltM4RLEGkdz"
      },
      "source": [
        "## 2. Abstraction:\n",
        "\n",
        "Theo bài toán đã cho, gọi x là số ngày mà hai đội cần để hoàn thành việc trồng cây. Khi đó, số ngày nghỉ của đội **I** là x//k(ngày) và số ngày nghỉ của đội **II** là x//m(ngày)\n",
        "\n",
        "- '//' là phép chia lấy phần nguyên \n",
        "\n",
        "Ta có :\n",
        "- Đội **I**:\n",
        "  - Số ngày cần phải làm : $x-int(\\frac{x}{k})$\n",
        "  - Số cây đốn hạ được : $[x-int(\\frac{x}{k})]*a$\n",
        "  \n",
        "- Đội **II**:\n",
        "  - Số ngày cần phải làm : $x-int(\\frac{x}{m})$\n",
        "  - Số cây đốn hạ được : $[x-int(\\frac{x}{m})] *b$\n",
        "  \n",
        "> Tổng số cây phải hạ: $x[a*int(\\frac{x}{k}) + b*int(\\frac{x}{m})] \\geq n$\n",
        "\n",
        "\n",
        "Vậy Abstraction của bài toán là tìm giá trị của x nhỏ nhất thoả mãn :  $ x \\geq \\frac{n}{a*int(\\frac{x}{k}) + b*int(\\frac{x}{m})}$\n"
      ]
    },
    {
      "cell_type": "markdown",
      "metadata": {
        "id": "LWfpMIQVGkd0"
      },
      "source": [
        "## 3. Pattern Recognition:\n",
        "\n",
        "Sử dụng binary search để tìm ra x thoả mãn."
      ]
    },
    {
      "cell_type": "markdown",
      "metadata": {
        "id": "Fqhy7PZPGkd1"
      },
      "source": [
        "## 4. Algorithm designed\n",
        "\n",
        "**Pseudocode:**\n",
        "\n",
        "high = $10^{18}$\n",
        "\n",
        "low = 0\n",
        "\n",
        "res = -1\n",
        "\n",
        "while **high $\\geq$ low**\n",
        "  \n",
        "  mid = int($\\frac{high+low}{2}$)\n",
        "  \n",
        "  if  $a(mid-int(\\frac{mid}{k}))$ + $b(mid-int(\\frac{mid}{m}))$ \n",
        "    res = mid\n",
        "    high = mid - 1\n",
        "  else\n",
        "  low = mid + 1\n",
        "\n",
        "print  res\n",
        "   \n"
      ]
    },
    {
      "cell_type": "markdown",
      "metadata": {
        "id": "fioknDCgGkd1"
      },
      "source": [
        "## 5. Programming"
      ]
    },
    {
      "cell_type": "code",
      "metadata": {
        "id": "cuKTcKaC1wXv",
        "outputId": "5f44d6c6-916f-4d8c-b0b7-66312511fc8d",
        "colab": {
          "base_uri": "https://localhost:8080/"
        }
      },
      "source": [
        "a, k, b, m, n = list(map(int, input().split()))\n",
        "\n",
        "def f(x):\n",
        "    return a*(x-x//k) + b*(x-x//m) >= n\n",
        "\n",
        "high = int(1e18)\n",
        "low = 0\n",
        "res = -1\n",
        "\n",
        "while high >= low:\n",
        "    mid = (high+low)//2\n",
        "    if f(mid):\n",
        "        res = mid\n",
        "        high = mid -1\n",
        "    else:\n",
        "        low = mid + 1\n",
        "print(res)    "
      ],
      "execution_count": null,
      "outputs": [
        {
          "output_type": "stream",
          "text": [
            "2 4 3 3 25\n",
            "7\n"
          ],
          "name": "stdout"
        }
      ]
    },
    {
      "cell_type": "markdown",
      "metadata": {
        "id": "KKq6qMgg2H6H"
      },
      "source": [
        "Kết quả trên colab"
      ]
    },
    {
      "cell_type": "markdown",
      "metadata": {
        "pycharm": {
          "name": "#%% md\n"
        },
        "id": "zcFEX1L0Gkd2"
      },
      "source": [
        "# Bài toán 2: Tái cấu trúc\n",
        "## 1. [Đề bài]"
      ]
    },
    {
      "cell_type": "markdown",
      "metadata": {
        "id": "7eMRJWLYGkd3"
      },
      "source": [
        "## 2. Abstraction:"
      ]
    },
    {
      "cell_type": "markdown",
      "metadata": {
        "id": "RB8DokxOGkd4"
      },
      "source": [
        "## 3. Pattern Recognition:"
      ]
    },
    {
      "cell_type": "markdown",
      "metadata": {
        "id": "tRM2cWQNGkd5"
      },
      "source": [
        "## 4. Algorithm designed"
      ]
    },
    {
      "cell_type": "markdown",
      "metadata": {
        "pycharm": {
          "name": "#%% md\n"
        },
        "id": "mIpQKMl9Gkd6"
      },
      "source": [
        "## 5. Programming"
      ]
    }
  ]
}