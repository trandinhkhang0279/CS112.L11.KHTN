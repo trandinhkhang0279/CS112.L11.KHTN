{
  "nbformat": 4,
  "nbformat_minor": 0,
  "metadata": {
    "kernelspec": {
      "display_name": "Python 3",
      "language": "python",
      "name": "python3"
    },
    "language_info": {
      "codemirror_mode": {
        "name": "ipython",
        "version": 3
      },
      "file_extension": ".py",
      "mimetype": "text/x-python",
      "name": "python",
      "nbconvert_exporter": "python",
      "pygments_lexer": "ipython3",
      "version": "3.7.3"
    },
    "colab": {
      "name": "Week4.ipynb",
      "provenance": [],
      "collapsed_sections": []
    }
  },
  "cells": [
    {
      "cell_type": "markdown",
      "metadata": {
        "collapsed": true,
        "pycharm": {
          "name": "#%% md\n"
        },
        "id": "0lku70kKGkdx"
      },
      "source": [
        "[![Open In Colab](https://colab.research.google.com/assets/colab-badge.svg)](https://colab.research.google.com/github/trandinhkhang0279/CS112.L11.KHTN/blob/master/Practice/Week4.ipynb)\n",
        "# Nhóm N012 ([Chi tiết tại đây](https://github.com/trandinhkhang0279/CS112.L11.KHTN/blob/master/README.md))\n",
        "\n",
        "* Trần Đình Khang-18520896\n",
        "* Phạm Xuân Trí-18521530\n",
        "* Trương Đức Vũ-18520194\n",
        "\n",
        "# BÀI TẬP TUẦN 4"
      ]
    },
    {
      "cell_type": "markdown",
      "metadata": {
        "pycharm": {
          "name": "#%% md\n"
        },
        "id": "ZKcYG2BgGkdy"
      },
      "source": [
        "# Bài toán 1: ĐỔI MỚI\n",
        "## 1. [Đề bài](https://github.com/trandinhkhang0279/CS112.L11.KHTN/blob/master/Practice/Problem/W4_Innovation.pdf)\n",
        "\n",
        "Thành phố quyết định chặt hạ hết $n$ cây xanh hiện có trong thành phố để trồng chỉ một loại cây mới. Nhiệm vụ được giao cho Công ty Cây xanh thành phố. Do hạn chế về thiết bị Công ty chỉ tổ chức được $2$ đội đốn hạ cây. Đội $I$ hạ được $a$ cây mỗi ngày, nhưng cứ mối ngày thứ $k$ thì phải nghỉ để bảo dưỡng kỹ thuật, tức là đội $I$ sẽ nghỉ vào các ngày $k, 2k, 3k, . . .$ Đội $II$ hạ được $b$ cây mỗi ngày, nhưng cứ mỗi ngày thứ $m$ thì phải nghỉ để bảo dưỡng kỹ thuật, tức là đội $II$ sẽ nghỉ vào các ngày $m, 2m, 3m, . . .$ Ở ngày nghỉ, số cây chặt hạ của đội sẽ là $0$. Cả hai đội bắt đầu công việc vào cùng một ngày và làm việc song song với nhau.\n",
        "\n",
        "Công việc trồng cây mới sẽ bắt đầu sau khi toàn bộ cây cũ đã bị đốn hạ.\n",
        "\n",
        "Hãy xác định sau bao nhiêu ngày thì có thể bắt đầu việc trồng mới cây.\n",
        "\n",
        "Dữ liệu:\n",
        "\n",
        "Vào từ thiết bị nhập chuẩn gồm một dòng chứa 5 số nguyên $a, k, b, m$ và $n$ $(1 \\le a, b \\le 10^9, 2 \\le k, m \\le 10^{18}, 1 \\le n \\le 10^{18})$.\n",
        "Kết quả:\n",
        "\n",
        "Đưa ra thiết bị xuất chuẩn một số nguyên – số ngày tính được.\n",
        "\n",
        "\n",
        "INPUT\tOUTPUT\n",
        "2 4 3 3 25\t7\t"
      ]
    },
    {
      "cell_type": "markdown",
      "metadata": {
        "id": "hltM4RLEGkdz"
      },
      "source": [
        "## 2. Abstraction:\n",
        "\n",
        "Theo bài toán đã cho, gọi x là số ngày mà hai đội cần để hoàn thành việc trồng cây. Khi đó, số ngày nghỉ của đội **I** là x//k(ngày) và số ngày nghỉ của đội **II** là x//m(ngày)\n",
        "\n",
        "- '//' là phép chia lấy phần nguyên \n",
        "\n",
        "Ta có :\n",
        "- Đội **I**:\n",
        "  - Số ngày cần phải làm : $x-int(\\frac{x}{k})$\n",
        "  - Số cây đốn hạ được : $[x-int(\\frac{x}{k})]*a$\n",
        "  \n",
        "- Đội **II**:\n",
        "  - Số ngày cần phải làm : $x-int(\\frac{x}{m})$\n",
        "  - Số cây đốn hạ được : $[x-int(\\frac{x}{m})] *b$\n",
        "  \n",
        "> Tổng số cây phải hạ: $x[a*int(\\frac{x}{k}) + b*int(\\frac{x}{m})] \\geq n$\n",
        "\n",
        "\n",
        "Vậy Abstraction của bài toán là tìm giá trị của x nhỏ nhất thoả mãn :  $ x \\geq \\frac{n}{a*int(\\frac{x}{k}) + b*int(\\frac{x}{m})}$\n"
      ]
    },
    {
      "cell_type": "markdown",
      "metadata": {
        "id": "LWfpMIQVGkd0"
      },
      "source": [
        "## 3. Pattern Recognition:\n",
        "\n",
        "Sử dụng binary search để tìm ra x thoả mãn."
      ]
    },
    {
      "cell_type": "markdown",
      "metadata": {
        "id": "Fqhy7PZPGkd1"
      },
      "source": [
        "## 4. Algorithm designed\n",
        "\n",
        "**Pseudocode:**\n",
        "\n",
        "high = $10^{18}$\n",
        "\n",
        "low = 0\n",
        "\n",
        "res = -1\n",
        "\n",
        "while **high $\\geq$ low**\n",
        "  \n",
        "  mid = int($\\frac{high+low}{2}$)\n",
        "  \n",
        "  if  $a(mid-int(\\frac{mid}{k}))$ + $b(mid-int(\\frac{mid}{m}))$ \n",
        "    res = mid\n",
        "    high = mid - 1\n",
        "  else\n",
        "  low = mid + 1\n",
        "\n",
        "print  res\n",
        "   \n"
      ]
    },
    {
      "cell_type": "markdown",
      "metadata": {
        "id": "fioknDCgGkd1"
      },
      "source": [
        "## 5. Programming"
      ]
    },
    {
      "cell_type": "code",
      "metadata": {
        "id": "cuKTcKaC1wXv",
        "outputId": "5f44d6c6-916f-4d8c-b0b7-66312511fc8d",
        "colab": {
          "base_uri": "https://localhost:8080/"
        }
      },
      "source": [
        "a, k, b, m, n = list(map(int, input().split()))\n",
        "\n",
        "def f(x):\n",
        "    return a*(x-x//k) + b*(x-x//m) >= n\n",
        "\n",
        "high = int(1e18)\n",
        "low = 0\n",
        "res = -1\n",
        "\n",
        "while high >= low:\n",
        "    mid = (high+low)//2\n",
        "    if f(mid):\n",
        "        res = mid\n",
        "        high = mid -1\n",
        "    else:\n",
        "        low = mid + 1\n",
        "print(res)    "
      ],
      "execution_count": null,
      "outputs": [
        {
          "output_type": "stream",
          "text": [
            "2 4 3 3 25\n",
            "7\n"
          ],
          "name": "stdout"
        }
      ]
    },
    {
      "cell_type": "markdown",
      "metadata": {
        "id": "KKq6qMgg2H6H"
      },
      "source": [
        "Kết quả trên colab\n",
        "![Screenshot from 2020-10-08 09-14-22.png](data:image/png;base64,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)"
      ]
    },
    {
      "cell_type": "markdown",
      "metadata": {
        "id": "-CNV7d_Jvp7Z"
      },
      "source": [
        ""
      ]
    },
    {
      "cell_type": "markdown",
      "metadata": {
        "pycharm": {
          "name": "#%% md\n"
        },
        "id": "zcFEX1L0Gkd2"
      },
      "source": [
        "# Bài toán 2: TÁI CẤU TRÚC\n",
        "## 1. [Đề bài](https://github.com/trandinhkhang0279/CS112.L11.KHTN/blob/master/Practice/Problem/W4_Reconstruction.pdf)"
      ]
    },
    {
      "cell_type": "markdown",
      "metadata": {
        "id": "7eMRJWLYGkd3"
      },
      "source": [
        "## 2. Abstraction:"
      ]
    },
    {
      "cell_type": "markdown",
      "metadata": {
        "id": "RB8DokxOGkd4"
      },
      "source": [
        "## 3. Pattern Recognition:"
      ]
    },
    {
      "cell_type": "markdown",
      "metadata": {
        "id": "tRM2cWQNGkd5"
      },
      "source": [
        "## 4. Algorithm designed"
      ]
    },
    {
      "cell_type": "markdown",
      "metadata": {
        "pycharm": {
          "name": "#%% md\n"
        },
        "id": "mIpQKMl9Gkd6"
      },
      "source": [
        "## 5. Programming"
      ]
    }
  ]
}
