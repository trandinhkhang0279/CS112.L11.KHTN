{
  "nbformat": 4,
  "nbformat_minor": 0,
  "metadata": {
    "kernelspec": {
      "display_name": "Python 3",
      "language": "python",
      "name": "python3"
    },
    "language_info": {
      "codemirror_mode": {
        "name": "ipython",
        "version": 3
      },
      "file_extension": ".py",
      "mimetype": "text/x-python",
      "name": "python",
      "nbconvert_exporter": "python",
      "pygments_lexer": "ipython3",
      "version": "3.7.3"
    },
    "colab": {
      "name": "Week4.ipynb",
      "provenance": []
    }
  },
  "cells": [
    {
      "cell_type": "markdown",
      "metadata": {
        "collapsed": true,
        "pycharm": {
          "name": "#%% md\n"
        },
        "id": "0lku70kKGkdx"
      },
      "source": [
        "[![Open In Colab](https://colab.research.google.com/assets/colab-badge.svg)](https://colab.research.google.com/github/trandinhkhang0279/CS112.L11.KHTN/blob/master/Practice/Week4.ipynb)\n",
        "# Nhóm N012 ([Chi tiết tại đây](https://github.com/trandinhkhang0279/CS112.L11.KHTN/blob/master/README.md))\n",
        "\n",
        "* Trần Đình Khang-18520896\n",
        "* Phạm Xuân Trí-18521530\n",
        "* Trương Đức Vũ-18520194\n",
        "\n",
        "# BÀI TẬP TUẦN 4"
      ]
    },
    {
      "cell_type": "markdown",
      "metadata": {
        "pycharm": {
          "name": "#%% md\n"
        },
        "id": "ZKcYG2BgGkdy"
      },
      "source": [
        "# Bài toán 1: Đổi mới\n",
        "## 1. [Đề bài]\n",
        "\n",
        "Thành phố quyết định chặt hạ hết $n$ cây xanh hiện có trong thành phố để trồng chỉ một loại cây mới. Nhiệm vụ được giao cho Công ty Cây xanh thành phố. Do hạn chế về thiết bị Công ty chỉ tổ chức được $2$ đội đốn hạ cây. Đội $I$ hạ được $a$ cây mỗi ngày, nhưng cứ mối ngày thứ $k$ thì phải nghỉ để bảo dưỡng kỹ thuật, tức là đội $I$ sẽ nghỉ vào các ngày $k, 2k, 3k, . . .$ Đội $II$ hạ được $b$ cây mỗi ngày, nhưng cứ mỗi ngày thứ $m$ thì phải nghỉ để bảo dưỡng kỹ thuật, tức là đội $II$ sẽ nghỉ vào các ngày $m, 2m, 3m, . . .$ Ở ngày nghỉ, số cây chặt hạ của đội sẽ là $0$. Cả hai đội bắt đầu công việc vào cùng một ngày và làm việc song song với nhau.\n",
        "\n",
        "Công việc trồng cây mới sẽ bắt đầu sau khi toàn bộ cây cũ đã bị đốn hạ.\n",
        "\n",
        "Hãy xác định sau bao nhiêu ngày thì có thể bắt đầu việc trồng mới cây.\n",
        "\n",
        "Dữ liệu:\n",
        "\n",
        "Vào từ thiết bị nhập chuẩn gồm một dòng chứa 5 số nguyên $a, k, b, m$ và $n$ $(1 \\le a, b \\le 10^9, 2 \\le k, m \\le 10^{18}, 1 \\le n \\le 10^{18})$.\n",
        "Kết quả:\n",
        "\n",
        "Đưa ra thiết bị xuất chuẩn một số nguyên – số ngày tính được.\n",
        "\n",
        "\n",
        "INPUT\tOUTPUT\n",
        "2 4 3 3 25\t7\t"
      ]
    },
    {
      "cell_type": "markdown",
      "metadata": {
        "id": "hltM4RLEGkdz"
      },
      "source": [
        "## 2. Abstraction:\n",
        "Theo bài toán đã cho, gọi x là số ngày mà hai đội cần để hoàn thành việc trồng cây. Khi đó, số ngày nghỉ của đội **I** là x//k(ngày) và số ngày nghỉ của đội **II** là x//m(ngày)\n",
        "\n",
        "- '//' là phép chia lấy phần nguyên \n",
        "\n",
        "Ta có :\n",
        "- Đội **I**:\n",
        "  - Số ngày cần phải làm : x - x//k\n",
        "  - Số cây đốn hạ được : (x - x//k)*a\n",
        "  \n",
        "- Đội **II**:\n",
        "  - Số ngày cần phải làm : x - x//m\n",
        "  - Số cây đốn hạ được : (x - x//m)*b\n",
        "  \n",
        "> Tổng số cây phải hạ: \n",
        "\n",
        "![image.png](data:image/png;base64,iVBORw0KGgoAAAANSUhEUgAAALwAAAAWCAYAAAB6zvYjAAAFjklEQVR4Ae2ZMa7VMBBFXSLRUNAgJMQS2AE0SDQISjrYAYgNwBLYAewAdgANPTuAHUBFCzpfuV/zhhnb7yVO8tGzFCWxxzN3rq8nfv+XcnXb3VLK+1LKg6ubwirI4efzKpHOQYYycKOU8uUs+CbH8PSnaXU2uBIMnAXft0xnwffxdGD1opTyJqmoWx0rMsHfK6VQ2fbStsZTEzxHQ/Ct1aQj4u66vU3QkUBE2BoJZYIH6rudiB5uIu7W3JA1wYuraA39krOmPbixue8nu/etiqSDkb9GixYtJqTwIwkxjm41wUP6p9EAOvx7HsDFl/Jnx9ylTFqCJ47HGcWGTwpcrbH+H0opv2pGyUmBKT0bquF6meFI8JDkAbIJvnUSOBdZTfD4psovXUmO8Yc4vECYD5c9IpzLj+b3xHoVYNV8eGZdseFOTog6a/BeG2dexiPcUDCz8Szm4v1e8CSeVVAI4hrZFB9c2fFJNkvi6BGP4rHxfUFgjMU8xo/8nXJ/Oq0F9wiLfDIG3qhpk8I1Yq9xznz8+I3u/dYEzdwfo4VPwk9KKS8NMna0xOQFz5jv09Q1BK9YrTvERY28wA/xEKw8I1vb1ytU/NUE1OvHxh79DFcRD6rq8AVXzxM78KEjcsMP3M75Q8epwteaggccYPgnL5LCUGARNJ8m+mle3FR37KO2J8GDxeO0n1wqHznXqp/NsVeoxMy+gOLZ+t3Dc8QVuDiPw5MKIPxluSFSNjr2PKMbacrm6NfEjvnnY4SPXonPkYoYYGYje/1exmAQYy8APyEjB0cjBX+rlPIouB5eZnD44HGSh10sLdDhrPytV/DE8ZzJ62jBR/z4PmGxd4ScYcYO3hBQraEdBKdCiS2ceYH795pPxrDnhz76bM2VwNl0NPCkuEmKxH3zRHghWfuW4F9PJEBEdmETtWfJnN+R8bT5EDWNzxrx7OeNBfK5TeYXxGb4bH+0APhs+VUcf7+T5GhjfvWTzLu1y55vGns91jBjA2++EGqu7hKb3nXEsRuAsYgzzbF37PgRi1+tox33z1pjca/4ds0P5iB4BOubHKh/juDxcb1xKY6/355+a/B7w16PveH0bnEiblvdIYOq0Us+LhFQT6uJh3gtPy1+rlVAWF6y52h6DXNk7/sQNXlZceGTCutbi/NjhS7/bAqOYNqYVHk2S9gwxkCLoUkYe8EjnAx0q8KHwQd1WsHzbPPgOcq1BkX2NRvG4IZ4UWOs1080f1RfbU17YnJssDmroPjqjq9MO9jq/zg9Fd3jIgcKm5p+r1ktX5xvqAQ687BD+GuNDWiFgjOS830Kwo62iat/yTvERJXDx7C7GzI+Trsf/OT3fbrbquR92PdeoeIvw0ds/Bwsgg2y0TN4e3mIIMKvjsPkhgYyYWf9aDAbi2L6Pv3AVj8Y4JvrsgHUi1vAZeTFjeC8qEkSwNhy8TxqUfGbCUqYwUhuanonN+azuIzT39t6BY8/8Pn8iSV+4HyOwHox99j18Nnyg1DhlvzIzedu588RtfVjn4lHbNsQuteyHU+fvSMMEfxWC8ZmaiXC+NLEHuOPRbeFJCV30IAEpzthsvVCGGtizXgEA0ea2rUKzkjwVKuW6Aat5UVcSGOhwGYXlZi82+o+CkfLr/8KtuyXGocXzrIUBjDoy2uPeIoFV2vjzATPhmSsdmWbVvksco8Ej2N2WwZ+kcCJE44LbLgsdrQJEldDu7cqCuRPMdLGZwPQIsFjB841W7Zua2KoxkLYkBgBjfqqzmYOssMRPIvnKzuuWbyof2bYk6dvgYevm9ZFPPFu/4JBQvC0ptilo1Wq9MkrtrOJIi07zuwM7iZwVMkRs0ROweJocxbbJktyelCErqrE2VOV7HSP/9dMuNERxh45Obqo///KuDObv7R6RUwZgi+/AAAAAElFTkSuQmCC)"
      ]
    },
    {
      "cell_type": "markdown",
      "metadata": {
        "id": "LWfpMIQVGkd0"
      },
      "source": [
        "## 3. Pattern Recognition:"
      ]
    },
    {
      "cell_type": "markdown",
      "metadata": {
        "id": "Fqhy7PZPGkd1"
      },
      "source": [
        "## 4. Algorithm designed\n",
        "\n",
        "\n",
        "**Pseudocode:**\n"
      ]
    },
    {
      "cell_type": "markdown",
      "metadata": {
        "id": "fioknDCgGkd1"
      },
      "source": [
        "## 5. Programming"
      ]
    },
    {
      "cell_type": "markdown",
      "metadata": {
        "pycharm": {
          "name": "#%% md\n"
        },
        "id": "zcFEX1L0Gkd2"
      },
      "source": [
        "# Bài toán 2: Tái cấu trúc\n",
        "## 1. [Đề bài]"
      ]
    },
    {
      "cell_type": "markdown",
      "metadata": {
        "id": "7eMRJWLYGkd3"
      },
      "source": [
        "## 2. Abstraction:"
      ]
    },
    {
      "cell_type": "markdown",
      "metadata": {
        "id": "RB8DokxOGkd4"
      },
      "source": [
        "## 3. Pattern Recognition:"
      ]
    },
    {
      "cell_type": "markdown",
      "metadata": {
        "id": "tRM2cWQNGkd5"
      },
      "source": [
        "## 4. Algorithm designed"
      ]
    },
    {
      "cell_type": "markdown",
      "metadata": {
        "pycharm": {
          "name": "#%% md\n"
        },
        "id": "mIpQKMl9Gkd6"
      },
      "source": [
        "## 5. Programming"
      ]
    }
  ]
}