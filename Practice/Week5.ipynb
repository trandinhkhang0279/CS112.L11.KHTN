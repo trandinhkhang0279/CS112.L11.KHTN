{
  "nbformat": 4,
  "nbformat_minor": 0,
  "metadata": {
    "kernelspec": {
      "display_name": "Python 3",
      "language": "python",
      "name": "python3"
    },
    "language_info": {
      "codemirror_mode": {
        "name": "ipython",
        "version": 3
      },
      "file_extension": ".py",
      "mimetype": "text/x-python",
      "name": "python",
      "nbconvert_exporter": "python",
      "pygments_lexer": "ipython3",
      "version": "3.7.3"
    },
    "colab": {
      "name": "Week5.ipynb",
      "provenance": []
    }
  },
  "cells": [
    {
      "cell_type": "markdown",
      "metadata": {
        "collapsed": true,
        "pycharm": {
          "name": "#%% md\n"
        },
        "id": "d5bYozmDXmic"
      },
      "source": [
        "[![Open In Colab](https://colab.research.google.com/assets/colab-badge.svg)](https://colab.research.google.com/github/trandinhkhang0279/CS112.L11.KHTN/blob/master/Practice/Week5.ipynb)\n",
        "# Nhóm N012 ([Chi tiết tại đây](https://github.com/trandinhkhang0279/CS112.L11.KHTN/blob/master/README.md))\n",
        "\n",
        "* Trần Đình Khang-18520896\n",
        "* Phạm Xuân Trí-18521530\n",
        "* Trương Đức Vũ-18520194\n",
        "\n",
        "# BÀI TẬP TUẦN 5"
      ]
    },
    {
      "cell_type": "markdown",
      "metadata": {
        "pycharm": {
          "name": "#%% md\n"
        },
        "id": "5eQ_myawXmid"
      },
      "source": [
        "# Bài toán 1: KHÓA SỐ \n",
        "## 1. [Đề bài](https://github.com/trandinhkhang0279/CS112.L11.KHTN/blob/master/Practice/Problem/W5_Number_Padlock.pdf)\n",
        "Để tăng độ an toàn chống hiện tượng cướp ngân hàng ngày càng phổ biến người ta dùng khóa số với mã mở khóa đơn giản nhưng rất hiệu quả. Trên cửa ra vào hiển thị một xâu khá dài các ký tự số. Các chữ số có thể di chuyển đổi chổ cho nhau hoặc bị xóa. Muốn mở khóa người ta phải di chuyển các chữ số và trong trường hợp cần thiết – xóa vài chữ số để nhận được xâu lớn nhất thỏa mãn điều kiện đã cài đặt. Điều kiện này được thay đổi thường xuyên. Hôm nay điều kiện đó là “Số nhận được phải chia hết cho 3”. Số nhận được có thể bắt đầu bằng các chữ số 0. Xâu “000” sẽ lớn hơn xâu “00”.\n",
        "\n",
        "Hãy xác định khóa mở cửa.\n",
        "\n",
        "***Dữ liệu***: Vào từ thiết bị nhập chuẩn gồm một xâu ký tự số có độ dài lớn hơn 2 và không vượt quá 105.\n",
        "\n",
        "***Kết quả:*** Đưa ra thiết bị xuất chuẩn xâu khóa mở cửa.\n",
        "\n",
        "**Ví dụ:**\n",
        "\n",
        "| INPUT | OUPUT |\n",
        "\n",
        "|-------|-------|\n",
        "\n",
        "|105|510|\n"
      ]
    },
    {
      "cell_type": "markdown",
      "metadata": {
        "id": "ms2Z58q-Xmie"
      },
      "source": [
        "## 2. Abstraction:\n",
        "*Tìm một dãy số là password key sao cho key lớn nhất và key $\\vdots $ 3*\n",
        "\n",
        "Phân tích bài toán :\n",
        "\n",
        "Có 3 trường hợp (theo mức độ ưu tiên cần xét)\n",
        "- Tổng các chứ số đã chia hết cho 3\n",
        " - Nhiệm vụ đơn giản chỉ là sắp xếp các số  trong dãy giảm dần, từ đó sẽ lấy được passwword thoả mãn yêu cầu bài toán\n",
        "- Tổng các chữ số chia 3 dư 1 (có 2 trường hợp)\n",
        "  - Xoá 1 số trong tập du_1 = [1, 4, 7]\n",
        "  - Nếu không có, xoá 2 số trong tập du_2 = [2, 5, 8]\n",
        "\n",
        "- Tổng các chữ số chia 3 dư 2\n",
        "  - Xoá 1 số trong tập du_2 = [2, 5, 8]\n",
        "  - Nếu không có, xoá 2 số trong tập du_1 = [1, 4, 7] \n",
        "\n",
        "*Note: * Việc xoá cũng thực hiện theo tuần tự, xét số nhỏ và xoá trước, không có mới xét các trường hợp tiếp theo."
      ]
    },
    {
      "cell_type": "markdown",
      "metadata": {
        "id": "wY3fnvpKXmif"
      },
      "source": [
        "## 3. Pattern Recognition:\n",
        "Bài toán khá đơn giản và dễ hiểu nên ta đi vào cài đặt luôn"
      ]
    },
    {
      "cell_type": "markdown",
      "metadata": {
        "id": "LlB2LyHXXmig"
      },
      "source": [
        "## 4. Algorithm designed\n",
        "\n",
        "\n",
        "**Pseudocode:**\n",
        "\n",
        "pas = $\\overline{a_{1}a_{2}a_{3}...a_{n}}$\n",
        "\n",
        "sum = $\\sum_{i=1}^{n} a_{i}$\n",
        "\n",
        "\n",
        "**if sum mod 3 = 1**\n",
        "\n",
        "    for num in [1, 4, 7]:\n",
        "\n",
        "        if count(num) != 0:\n",
        "            count(num) -= 1\n",
        "            break\n",
        "    else:\n",
        "        check = 2\n",
        "        for num in [2, 5, 8]:\n",
        "            if count(num) >= 2:\n",
        "                count(num) -= 2\n",
        "                check -= 2\n",
        "\n",
        "            elif count(num) == 1:\n",
        "                count(num) -= 1\n",
        "                check -= 1\n",
        "            if check == 0:\n",
        "                break\n",
        "\n",
        "**if sum mod 3 = 2**\n",
        "\n",
        "    for num in [2, 5, 8]:\n",
        "        if count(num) > 0:\n",
        "            count(num) -= 1\n",
        "            break\n",
        "    else:\n",
        "        check = 2\n",
        "        for num in [1, 4, 7]:\n",
        "            if count(num) >= 2:\n",
        "                count(num) -= 2\n",
        "                check -= 2\n",
        "            elif count(num) == 1:\n",
        "                count(num) -= 1\n",
        "                check -= 1\n",
        "            if check == 0:\n",
        "                break\n",
        "\n",
        "sort_reverse() #sắp xếp giảm dần"
      ]
    },
    {
      "cell_type": "markdown",
      "metadata": {
        "id": "kDs4uzVIXmih"
      },
      "source": [
        "## 5. Programming\n"
      ]
    },
    {
      "cell_type": "code",
      "metadata": {
        "id": "aEQv51acX9RS",
        "outputId": "981ae977-48d5-4c5c-f951-0628510d846a",
        "colab": {
          "base_uri": "https://localhost:8080/",
          "height": 53
        }
      },
      "source": [
        "def delete_num(count, l1, l2):\n",
        "    for num in l1:\n",
        "        if count[num] > 0:\n",
        "            count[num] -= 1\n",
        "            break\n",
        "    else:\n",
        "        delete = 2\n",
        "        for num in l2:\n",
        "            if count[num] >= 2:\n",
        "                count[num] -= 2\n",
        "                delete -= 2\n",
        "            elif count[num] == 1:\n",
        "                count[num] -= 1\n",
        "                delete -= 1\n",
        "            \n",
        "            if delete == 0:\n",
        "                break\n",
        "\n",
        "\n",
        "input_string = input().strip()\n",
        "\n",
        "total = 0\n",
        "count = [0, 0, 0, 0, 0, 0, 0, 0, 0 ,0]\n",
        "two = [2, 5, 8]\n",
        "one = [1, 4, 7]\n",
        "\n",
        "for character in input_string:\n",
        "    digit = int(character)\n",
        "    total += digit\n",
        "    count[digit] += 1\n",
        "\n",
        "if total % 3 == 1:\n",
        "    delete_num(count, one, two)\n",
        "elif total % 3 == 2:\n",
        "    delete_num(count, two, one)\n",
        "\n",
        "password = ''\n",
        "for i in range(9, -1, -1):\n",
        "    password += str(i) * count[i]\n",
        "\n",
        "print(password)"
      ],
      "execution_count": 1,
      "outputs": [
        {
          "output_type": "stream",
          "text": [
            "105\n",
            "510\n"
          ],
          "name": "stdout"
        }
      ]
    },
    {
      "cell_type": "markdown",
      "metadata": {
        "id": "l3fwrICvYDw_"
      },
      "source": [
        "Kết quả wecode\n",
        "![Screenshot from 2020-10-15 15-29-05.png](data:image/png;base64,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)"
      ]
    },
    {
      "cell_type": "markdown",
      "metadata": {
        "pycharm": {
          "name": "#%% md\n"
        },
        "id": "uqh8etQiXmih"
      },
      "source": [
        "# Bài toán 2: ĐẲNG CẤU VÒNG\n",
        "## 1. [Đề bài](https://github.com/trandinhkhang0279/CS112.L11.KHTN/blob/master/Practice/Problem/W5_Cyclick_Isomorphism.pdf)"
      ]
    },
    {
      "cell_type": "markdown",
      "metadata": {
        "id": "Ozg_OrrCXmii"
      },
      "source": [
        "## 2. Abstraction:"
      ]
    },
    {
      "cell_type": "markdown",
      "metadata": {
        "id": "SwO9a6M_Xmij"
      },
      "source": [
        "## 3. Pattern Recognition:"
      ]
    },
    {
      "cell_type": "markdown",
      "metadata": {
        "id": "y6xhAHRSXmik"
      },
      "source": [
        "## 4. Algorithm designed"
      ]
    },
    {
      "cell_type": "markdown",
      "metadata": {
        "pycharm": {
          "name": "#%% md\n"
        },
        "id": "jGdaDpxFXmil"
      },
      "source": [
        "## 5. Programming"
      ]
    }