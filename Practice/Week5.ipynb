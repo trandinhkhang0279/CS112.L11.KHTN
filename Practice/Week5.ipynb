{
 "cells": [
  {
   "cell_type": "markdown",
   "metadata": {
    "collapsed": true,
    "pycharm": {
     "name": "#%% md\n"
    }
   },
   "source": [
    "[![Open In Colab](https://colab.research.google.com/assets/colab-badge.svg)](https://colab.research.google.com/github/trandinhkhang0279/CS112.L11.KHTN/blob/master/Practice/Week5.ipynb)\n",
    "# Nhóm N012 ([Chi tiết tại đây](https://github.com/trandinhkhang0279/CS112.L11.KHTN/blob/master/README.md))\n",
    "\n",
    "* Trần Đình Khang-18520896\n",
    "* Phạm Xuân Trí-18521530\n",
    "* Trương Đức Vũ-18520194\n",
    "\n",
    "# BÀI TẬP TUẦN 5"
   ]
  },
  {
   "cell_type": "markdown",
   "metadata": {
    "pycharm": {
     "name": "#%% md\n"
    }
   },
   "source": [
    "# Bài toán 1: KHÓA SỐ\n",
    "## 1. [Đề bài](https://github.com/trandinhkhang0279/CS112.L11.KHTN/blob/master/Practice/Problem/W5_Number_Padlock.pdf)\n"
   ]
  },
  {
   "cell_type": "markdown",
   "metadata": {},
   "source": [
    "## 2. Abstraction:"
   ]
  },
  {
   "cell_type": "markdown",
   "metadata": {},
   "source": [
    "## 3. Pattern Recognition:"
   ]
  },
  {
   "cell_type": "markdown",
   "metadata": {},
   "source": [
    "## 4. Algorithm designed\n",
    "\n",
    "\n",
    "**Pseudocode:**\n"
   ]
  },
  {
   "cell_type": "markdown",
   "metadata": {},
   "source": [
    "## 5. Programming"
   ]
  },
  {
   "cell_type": "markdown",
   "metadata": {
    "pycharm": {
     "name": "#%% md\n"
    }
   },
   "source": [
    "# Bài toán 2: ĐẲNG CẤU VÒNG\n",
    "## 1. [Đề bài](https://github.com/trandinhkhang0279/CS112.L11.KHTN/blob/master/Practice/Problem/W5_Cyclick_Isomorphism.pdf)"
   ]
  },
  {
   "cell_type": "markdown",
   "metadata": {},
   "source": [
    "## 2. Abstraction:"
   ]
  },
  {
   "cell_type": "markdown",
   "metadata": {},
   "source": [
    "## 3. Pattern Recognition:"
   ]
  },
  {
   "cell_type": "markdown",
   "metadata": {},
   "source": [
    "## 4. Algorithm designed"
   ]
  },
  {
   "cell_type": "markdown",
   "metadata": {
    "pycharm": {
     "name": "#%% md\n"
    }
   },
   "source": [
    "## 5. Programming"
   ]
  }
 ],
 "metadata": {
  "kernelspec": {
   "display_name": "Python 3",
   "language": "python",
   "name": "python3"
  },
  "language_info": {
   "codemirror_mode": {
    "name": "ipython",
    "version": 3
   },
   "file_extension": ".py",
   "mimetype": "text/x-python",
   "name": "python",
   "nbconvert_exporter": "python",
   "pygments_lexer": "ipython3",
   "version": "3.7.3"
  }
 },
 "nbformat": 4,
 "nbformat_minor": 1
}