{
 "cells": [
  {
   "cell_type": "markdown",
   "metadata": {
    "collapsed": true,
    "pycharm": {
     "name": "#%% md\n"
    }
   },
   "source": [
    "[![Open In Colab](https://colab.research.google.com/assets/colab-badge.svg)](https://colab.research.google.com/github/trandinhkhang0279/CS112.L11.KHTN/blob/master/Practice/Week6.ipynb)\n",
    "# Nhóm N012 ([Chi tiết tại đây](https://github.com/trandinhkhang0279/CS112.L11.KHTN/blob/master/README.md))\n",
    "\n",
    "* Trần Đình Khang-18520896\n",
    "* Phạm Xuân Trí-18521530\n",
    "* Trương Đức Vũ-18520194\n",
    "\n",
    "# BÀI TẬP TUẦN 6"
   ]
  },
  {
   "cell_type": "markdown",
   "metadata": {
    "pycharm": {
     "name": "#%% md\n"
    }
   },
   "source": [
    "# Bài toán 1: MỨC ĐỘ GIỐNG NHAU\n",
    "## 1. [Đề bài](https://github.com/trandinhkhang0279/CS112.L11.KHTN/blob/master/Practice/Problem/W6_The_same_lever.pdf)\n",
    "Một quần thể sinh vật ngoài hành tinh có gene tạo thành từ 26 cơ sở ký hiệu từ **A** tới **Z**. Mỗi gene là một xâu ký tự các chữ cái la tinh hoa. Hai cá thể khác nhau có gene khác nhau. Mức độ giống nhau của 2 gene sẽ xác định độ huyết thống của chúng.  \n",
    "Độ giống nhau của gene thứ nhất đối với gene thứ 2 là số lượng cặp 2 cơ sở liên tiếp nhau trong gene thứ nhất đồng thời là cặp 2 cơ sở liên tiếp nhau trong gene thứ hai.  "
   ]
  },
  {
   "attachments": {
    "image.png": {
     "image/png": "[encoded data removed]"
    }
   },
   "cell_type": "markdown",
   "metadata": {},
   "source": [
    "![image.png](attachment:image.png)"
   ]
  },
  {
   "cell_type": "markdown",
   "metadata": {},
   "source": [
    "Ví dụ, gene thứ nhất là **ABBACAB**, gene thứ 2 là **BCABB** thì mức độ giống nhau là 4.\n",
    "\n",
    "Cho hai gene. Hãy xác định mức độ giống nhau của gene thứ nhất với gene thứ 2.\n",
    "\n",
    "+ Dữ liệu: Vào từ thiết bị nhập chuẩn bao gồm 2 dòng chứa 2 xâu khác rỗng xác định gene thứ nhất và gene thứ 2, mỗi xâu chỉ chứa các ký tự chữ cái in hoa và có độ dài không quá 105.  \n",
    "+ Kết quả: Đưa ra thiết bị xuất chuẩn một số nguyên – mức độ giống nhau của 2 genes  \n",
    "\n",
    "Ví dụ \n",
    "\n",
    "INPUT | OUTPUT |\n",
    "---|---\n",
    "ABBACAB|\n",
    "BCABB | 4"
   ]
  },
  {
   "cell_type": "markdown",
   "metadata": {},
   "source": [
    "## 2. Abstraction:\n",
    "\n",
    "Tìm số phần tử của tập A nằm trong tập B"
   ]
  },
  {
   "cell_type": "markdown",
   "metadata": {},
   "source": [
    "## 3. Pattern Recognition:\n",
    "\n",
    "Bài toán khá đơn giản\n",
    "Để xác định mức độ giống nhau ta cần xác định từng cặp kí hiệu:\n",
    "+ Các cặp kí hiệu của gen 2 dic_2 \n",
    "+ Các cặp kí hiệu của gen 1 dic_1\n",
    "\n",
    "Sau đó ta duyệt qua từng cặp trong dic_2, với mỗi lần duyệt ta kiểm tra xong cặp kí hiệu có nằm trong dic_1 hay không. Cứ như vậy ta sẽ đếm được mức độ giống nhau của 2 gen"
   ]
  },
  {
   "cell_type": "markdown",
   "metadata": {},
   "source": [
    "## 4. Algorithm designed\n",
    "\n",
    "**Pseudocode:**\n",
    "\n",
    "Nhập gen1, gen2\n",
    "\n",
    "    # Thiết lập dic_2 \n",
    "    \n",
    "dic_2 = []  \n",
    "cnt = 0  \n",
    "for i in range(len(gen2)-1):  \n",
    "\n",
    "    dic_2.append(gen2[i:i+2])\n",
    "\n",
    "    \n",
    "for i in range(len(gen1) -1):  \n",
    "\n",
    "    # Đếm số lượng cặp kí hiệu xuất hiện trong gen 2  \n",
    "    s = gen1[i:i+2]  \n",
    "    #print(s)  \n",
    "    if s in dic_2:  \n",
    "        cnt += 1  \n",
    "print(cnt)"
   ]
  },
  {
   "cell_type": "markdown",
   "metadata": {},
   "source": [
    "## 5. Programming"
   ]
  },
  {
   "cell_type": "code",
   "execution_count": 3,
   "metadata": {},
   "outputs": [
    {
     "name": "stdout",
     "output_type": "stream",
     "text": [
      "ABBACAB\n",
      "BCABB\n",
      "['BC', 'CA', 'AB', 'BB']\n",
      "4\n"
     ]
    }
   ],
   "source": [
    "gen1 = input()\n",
    "gen2 = input()\n",
    "\n",
    "dic_2 = []\n",
    "cnt = 0\n",
    "for i in range(len(gen2)-1):\n",
    "    dic_2.append(gen2[i:i+2])\n",
    "\n",
    "print(dic_2)\n",
    "#print(dic_1)\n",
    "for i in range(len(gen1) -1):\n",
    "    s = gen1[i:i+2]\n",
    "    #print(s)\n",
    "    if s in dic_2:\n",
    "        cnt += 1\n",
    "print(cnt)"
   ]
  },
  {
   "cell_type": "markdown",
   "metadata": {
    "pycharm": {
     "name": "#%% md\n"
    }
   },
   "source": [
    "# Bài toán 2: ĐỊA LAN\n",
    "## 1. [Đề bài](https://github.com/trandinhkhang0279/CS112.L11.KHTN/blob/master/Practice/Problem/W6_Cymbidium.pdf)\n",
    "\n",
    "\n",
    "\n"
   ]
  },
  {
   "cell_type": "markdown",
   "metadata": {},
   "source": [
    "## 2. Abstraction:"
   ]
  },
  {
   "cell_type": "markdown",
   "metadata": {},
   "source": [
    "## 3. Pattern Recognition:"
   ]
  },
  {
   "cell_type": "markdown",
   "metadata": {},
   "source": [
    "## 4. Algorithm designed"
   ]
  },
  {
   "cell_type": "markdown",
   "metadata": {
    "pycharm": {
     "name": "#%% md\n"
    }
   },
   "source": [
    "## 5. Programming"
   ]
  }
 ],
 "metadata": {
  "kernelspec": {
   "display_name": "Python 3",
   "language": "python",
   "name": "python3"
  },
  "language_info": {
   "codemirror_mode": {
    "name": "ipython",
    "version": 3
   },
   "file_extension": ".py",
   "mimetype": "text/x-python",
   "name": "python",
   "nbconvert_exporter": "python",
   "pygments_lexer": "ipython3",
   "version": "3.7.3"
  }
 },
 "nbformat": 4,
 "nbformat_minor": 1
}
