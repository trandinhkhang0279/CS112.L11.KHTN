{
 "cells": [
  {
   "cell_type": "markdown",
   "metadata": {
    "collapsed": true,
    "pycharm": {
     "name": "#%% md\n"
    }
   },
   "source": [
    "[![Open In Colab](https://colab.research.google.com/assets/colab-badge.svg)](https://colab.research.google.com/github/trandinhkhang0279/CS112.L11.KHTN/blob/master/Practice/Week3.ipynb)\n",
    "# Nhóm N012 ([Chi tiết tại đây](https://github.com/trandinhkhang0279/CS112.L11.KHTN/blob/master/README.md))\n",
    "\n",
    "* Trần Đình Khang-18520896\n",
    "* Phạm Xuân Trí-18521530\n",
    "* Trương Đức Vũ-18520194\n",
    "\n",
    "# BÀI TẬP TUẦN 3"
   ]
  },
  {
   "cell_type": "markdown",
   "metadata": {
    "pycharm": {
     "name": "#%% md\n"
    }
   },
   "source": [
    "# Bài toán 1: H-Index\n",
    "## 1. [Đề bài](https://github.com/trandinhkhang0279/CS112.L11.KHTN/blob/master/Practice/Problem/W3_H-index.pdf)\n"
   ]
  },
  {
   "cell_type": "markdown",
   "metadata": {},
   "source": [
    "## 2. Abstraction:\n",
    "Tìm số k lớn nhất (k <= n) sao cho có ít nhất k số lớn hơn hoặc bằng k trong mảng gồm n số nguyên"
   ]
  },
  {
   "cell_type": "markdown",
   "metadata": {},
   "source": [
    "## 3. Pattern Recognition:\n",
    "Bài toán sắp xếp"
   ]
  },
  {
   "cell_type": "markdown",
   "metadata": {},
   "source": [
    "## 4. Algorithm designed\n",
    "\n",
    "\n",
    "**Pseudocode:**\n"
   ]
  },
  {
   "cell_type": "markdown",
   "metadata": {},
   "source": [
    "## 5. Programming"
   ]
  },
  {
   "cell_type": "code",
   "execution_count": null,
   "metadata": {
    "pycharm": {
     "name": "#%%\n"
    }
   },
   "outputs": [],
   "source": [
    "n = int(input())\n",
    "a = list(map(int, input().split()))\n",
    "a = sorted(a, reverse = False)\n",
    "k = n\n",
    "for i in range(n):\n",
    "  if k > a[i]:\n",
    "    k -= 1\n",
    "  else:\n",
    "    break\n",
    "print(k)"
   ]
  },
  {
   "cell_type": "markdown",
   "metadata": {
    "pycharm": {
     "name": "#%% md\n"
    }
   },
   "source": [
    "# Bài toán 2: Water Supply\n",
    "## 1. [Đề bài](https://github.com/trandinhkhang0279/CS112.L11.KHTN/blob/master/Practice/Problem/W3_WaterSupply.pdf)\n",
    "\n",
    "**KHÔI PHỤC HỆ THỐNG CẤP NƯỚC (1s, 100MB)**  \n",
    "\n",
    "Vùng đất diệu kỳ Wonderland có N hộ gia đình đã được trang bị một hệ thống cung cấp nước sạch đến từng ngôi nhà. Mỗi đường ống nối trực tiếp 2 nhà, nước chảy trong đường ống theo 2 chiều, có thể truyền qua nhiều trung gian trước khi đến một nhà nào đó. Trong hồ sơ lưu trữ, các ngôi nhà được ghi số từ 1 đến **N**.  \n",
    "\n",
    "Một trận động đất đã gây nên sự cố nghiêm trọng làm cho cả vùng bị chia cắt thành nhiều khu vực rời nhau, không còn tiếp cận được với nguồn nước. Để khắc phục, những người có trách nhiệm đã khảo sát hiện trạng và ghi nhận được toàn vùng đất đang thảm họa vẫn còn **M** đường ống đang hoạt động tốt.  \n",
    "\n",
    "Nhiệm vụ đặt ra là phải khôi phục hệ thống cấp nước bằng cách lắp thêm một số đường ống. Tuy nhiên, do hạn chế về thời gian và kinh phí nên đòi hỏi phương án khôi phục phải được thực hiện với ít đường ống được lắp thêm nhất. Câu hỏi đặt ra: cần lắp thêm ít nhất bao nhiêu đường ống để hệ thống cấp nước có thể đưa nước đến từng ngôi nhà. Câu hỏi phụ: có bao nhiêu phương án khác nhau đáp ứng yêu cầu; số phương án có thể khá lớn nên chỉ cần đưa ra số dư khi chia cho $10^9+7$.  \n",
    "\n",
    "* Dữ liệu: Vào từ thiết bị nhập chuẩn:  \n",
    "\n",
    "* Dòng đầu tiên chứa 2 số nguyên **N, M (1 ≤ N, M  ≤ $10^5$)**  \n",
    "\n",
    "Mỗi dòng trong M dòng tiếp theo chứa 2 số nguyên **a, b (1 ≤ a,  b ≤ N)**. cho biết vẫn còn đường ống nối nhà **a** với nhà **b**  \n",
    "\n",
    "*Kết quả*: Đưa ra thiết bị xuất chuẩn số đường ống cần được lắp thêm và số phương án đáp ứng yêu cầu (theo mô đun $10^9+7$) mỗi số trên một dòng."
   ]
  },
  {
   "cell_type": "markdown",
   "metadata": {},
   "source": [
    "## 2. Abstraction:  \n",
    "Tìm số đồ thị liên thông trong N đỉnh và M cạnh cho trước (1 ≤ N, M  ≤ $10^5$) và số cách đối các đồ thì liên thông với nhau.\n"
   ]
  },
  {
   "attachments": {
    "image.png": {
     "image/png": "[encoded data removed]"
    }
   },
   "cell_type": "markdown",
   "metadata": {},
   "source": [
    "## 3. Pattern Recognition:\n",
    "Để giải quyết vấn đề tìm số đường ống ít nhất để liên kết các nhà lại với nhà thì đầu tiên ta hình dung, khi động đât xảy ra thì số đường ống còn lại sẽ như hình bên dưới tạo thành các cụm được liên kết với nhau\n",
    "![image.png](attachment:image.png)  \n",
    "Dễ thấy để tìm số đường ống ít nhất để phục hồi mạng lưới cấp nước thì ta chỉ cần nối một cạnh từ đồ thị này sang đồ thị khác. Vậy vấn đề ở đây ta chỉ cần tìm ra số **cụm nhà còn kết nối với nhau sau** trận động đất, số lượng các cụm này trừ 1 chính là kết quả yêu cầu thứ nhât. Ở đây chúng tôi sử dụng **giải thuật DFS** để thực hiện việc tìm các đô thị liên thông. (**Note**: nếu các bạn chưa có kiến thức về DFS thì có thể tham khảo [tại đây](https://vi.wikipedia.org/wiki/T%C3%ACm_ki%E1%BA%BFm_theo_chi%E1%BB%81u_s%C3%A2u)  \n",
    "Khoang! Ta vẫn còn yêu cầu thứ 2: tìm ra số cách có thể thực hiện khi phục hồi hệ thống thoát nước, hay nói cách khác là tìm ra số cách kết nối các đồ thị liên thông với nhau. Đây mới thực sự là vấn đề nan giải. Với vấn đề thực sự nan giải này nhóm chúng tôi đã quyết định tham khảo [tại đây](https://cp-algorithms.com/graph/pruefer_code.html?fbclid=IwAR0LusWUxPajAF-vyo2Q963mSWiQq2Q-pGu0PzVTF6N8srTILKoqjkkkYSk#toc-tgt-8) và đưa ra công thức để tìm số cách như trong link đính kèm.  \n",
    "Số cách = $s_1*s_2*s_3*...s_n*N^{k-2}(1)$\n",
    "* $s_i$ là số đỉnh của đồ thị liên thông thứ i\n",
    "* N là toàn bộ số đỉnh\n",
    "* k là số lượng đồ thị liên thông\n",
    "\n",
    "Bài toán sẽ chia làm 2 bước chính:\n",
    "* Bước 1: Tìm số đồ thị liên thông bằng thuật toán DFS\n",
    "* Bước 2: Từ số đồ thị liên thông tìm được, tìm số cách đối các đồ thị liên thông với nhau ( giữa 2 đồ thị chỉ cần 1 cạnh để nối ) bằng công thức (1) "
   ]
  },
  {
   "cell_type": "markdown",
   "metadata": {},
   "source": [
    "## 4. Algorithm designed\n",
    "Bước 1: Tìm số đồ thị liên thông  \n",
    "* Tạo danh sách kề cho các đỉnh \n",
    "* Tìm các đồ thị liên thông bằng thuật toán DFS  \n",
    "\n",
    "Bước 2: Tính số cách kết đối các đồ thị liên thông đã tìm được qua công thức (1)\n",
    "\n",
    "Pseudocode:\n",
    "\n",
    "Input:\n",
    "* N,M # số đỉnh và số cạnh cho trước\n",
    "* edges = $[[a_1,b_1],[a_2,b_2],...,[a_n,b_n]]$ # danh sách các cạnh cho trước \n",
    "\n",
    "Nhập N, M , danh sách các cạnh\n",
    "adj = [[],[],...,[]] # Tạo danh sách rỗng cho N đỉnh  \n",
    "for edge in edges:  # Tạo danh sách kề   \n",
    "* adj[edge[0]] = edge[1]  \n",
    "* adj[edge[1]] = edge[0]\n",
    "\n",
    "visited = [[False],[False],...[False]] # Tạo mảng visitted với N phần tử mang giá trị False # Mảng đánh dấu đỉnh đã thăm hay chưa\n",
    "\n",
    "* kq1, kq2 = answer(adj,vissted)\n",
    "* print(kq1)\n",
    "* print(kq2)\n",
    "\n",
    "\n",
    "                                       \n",
    "def DFS(temp, v, vissted,adj): # Giải thuật DFS  \n",
    "* v = True         # Đánh dấu đỉnh đã thăm\n",
    "* temp.append(v)   # Thêm đỉnh đanh sét vào biến temp\n",
    "* for v_a in adj[v]: # duyệt các đỉnh kề với đỉnh v\n",
    "    * if v_a is True:\n",
    "        * continue\n",
    "    * else:\n",
    "         temp = DFS(temp,v_a, vissted, adj) #Tiếp tục tìm duyệt và các node liên thông với v_a\n",
    "* return temp\n",
    "\n",
    "def Find_Connect_Graph(Visited,adj):\n",
    "* Connect_Graph = []\n",
    "* For v in Visted:\n",
    "    * if v is False:\n",
    "        * temp = []\n",
    "        * temp = DFS(temp,Visted,adj)\n",
    "* return cc\n",
    "\n",
    "def answer(adj, visited):\n",
    "* cc = Find_Connect_Graph(visited,adj)\n",
    "* len_cc = len(cc) # lấy số lượng đồ thị liên thông\n",
    "* kq1 = kq1 - 1 # số ống tối thiểu cần\n",
    "* kq2 = 1\n",
    "* for i in [1, len_cc]:\n",
    "    * kq2 = kq2*len(cc[i])\n",
    "* kq2 = kq2*N^(len_cc-2)\n",
    "* return kq1, kq2\n",
    "\n",
    "\n",
    "         \n",
    "   \n",
    "\n"
   ]
  },
  {
   "cell_type": "markdown",
   "metadata": {
    "pycharm": {
     "name": "#%% md\n"
    }
   },
   "source": [
    "## 5. Programming"
   ]
  },
  {
   "cell_type": "code",
   "execution_count": 1,
   "metadata": {},
   "outputs": [
    {
     "name": "stdout",
     "output_type": "stream",
     "text": [
      "3 1\n",
      "1 2\n",
      "1\n",
      "2\n"
     ]
    }
   ],
   "source": [
    "# Python program to print connected \n",
    "# components in an undirected graph \n",
    "class Graph: \n",
    "      \n",
    "    # init function to declare class variables \n",
    "    def __init__(self,V): \n",
    "        self.V = V \n",
    "        self.adj = [[] for i in range(V)] \n",
    "  \n",
    "    def DFSUtil(self, temp, v, visited): \n",
    "  \n",
    "        # Mark the current vertex as visited \n",
    "        visited[v] = True\n",
    "  \n",
    "        # Store the vertex to list \n",
    "        temp.append(v) \n",
    "  \n",
    "        # Repeat for all vertices adjacent \n",
    "        # to this vertex v \n",
    "        for i in self.adj[v]: \n",
    "            if visited[i] == False: \n",
    "                  \n",
    "                # Update the list \n",
    "                temp = self.DFSUtil(temp, i, visited) \n",
    "        return temp \n",
    "  \n",
    "    # method to add an undirected edge \n",
    "    def addEdge(self, v, w): \n",
    "        self.adj[v].append(w) \n",
    "        self.adj[w].append(v) \n",
    "  \n",
    "    # Method to retrieve connected components \n",
    "    # in an undirected graph \n",
    "    def connectedComponents(self): \n",
    "        visited = [] \n",
    "        cc = [] \n",
    "        for i in range(self.V): \n",
    "            visited.append(False) # Create all node Fasle\n",
    "        for v in range(self.V): \n",
    "            if visited[v] == False: \n",
    "                temp = [] \n",
    "                cc.append(self.DFSUtil(temp, v, visited)) \n",
    "        return cc \n",
    "def answer(connect_components,N):\n",
    "  base = int(1e9 + 7)\n",
    "  len_connect_components =  len(connect_components)\n",
    "  kq1 = len_connect_components -1 \n",
    "  kq2 = 1\n",
    "  for i in range( len_connect_components):\n",
    "    kq2 = (kq2*len(connect_components[i])) % base\n",
    "  temp = N**(len_connect_components-2) % base\n",
    "  kq2 = (kq2*temp) % base\n",
    "  return kq1, kq2\n",
    "# Driver Code \n",
    "if __name__==\"__main__\":\n",
    "  # Create a graph given in the above diagram\n",
    "  N, M  = map(int, input().split())\n",
    "  g = Graph(N)\n",
    "  for i in range(M):\n",
    "    a,b = map(int, input().split())\n",
    "    g.addEdge(a-1, b-1)\n",
    "    #print(g.adj)\n",
    "  cc = g.connectedComponents()\n",
    "  #rint(cc)\n",
    "  kq1, kq2 = answer(cc,N)\n",
    "  print(kq1)\n",
    "  print(kq2)"
   ]
  },
  {
   "cell_type": "markdown",
   "metadata": {},
   "source": [
    "# Kết quả\n",
    "Thuật toán chưa tối ưu nên chỉ qua được 4 testcase\n"
   ]
  },
  {
   "cell_type": "code",
   "execution_count": null,
   "metadata": {},
   "outputs": [],
   "source": []
  }
 ],
 "metadata": {
  "kernelspec": {
   "display_name": "Python 3",
   "language": "python",
   "name": "python3"
  },
  "language_info": {
   "codemirror_mode": {
    "name": "ipython",
    "version": 3
   },
   "file_extension": ".py",
   "mimetype": "text/x-python",
   "name": "python",
   "nbconvert_exporter": "python",
   "pygments_lexer": "ipython3",
   "version": "3.7.3"
  }
 },
 "nbformat": 4,
 "nbformat_minor": 1
}
