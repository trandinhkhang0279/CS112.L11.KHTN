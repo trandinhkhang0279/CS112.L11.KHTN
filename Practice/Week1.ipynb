{
  "nbformat": 4,
  "nbformat_minor": 0,
  "metadata": {
    "colab": {
      "name": "Week1.ipynb",
      "provenance": []
    },
    "kernelspec": {
      "name": "python3",
      "display_name": "Python 3"
    }
  },
  "cells": [
    {
      "cell_type": "markdown",
      "metadata": {
        "id": "QC6YmrHuheT_",
        "colab_type": "text"
      },
      "source": [
        "### 1. Abstraction: Tìm dãy con liên tiếp có tổng lớn nhất trong dãy a có n số nguyên."
      ]
    },
    {
      "cell_type": "markdown",
      "metadata": {
        "id": "XKxNzaq9iDis",
        "colab_type": "text"
      },
      "source": [
        "### 2. Pattern Recognition: "
      ]
    },
    {
      "cell_type": "markdown",
      "metadata": {
        "id": "urQNLm41io1s",
        "colab_type": "text"
      },
      "source": [
        "### 3. Algorithm designed"
      ]
    },
    {
      "cell_type": "markdown",
      "metadata": {
        "id": "WccjqN_ykCbr",
        "colab_type": "text"
      },
      "source": [
        "### 4. Programming"
      ]
    },
    {
      "cell_type": "code",
      "metadata": {
        "id": "bFBqSDokkFs4",
        "colab_type": "code",
        "colab": {
          "base_uri": "https://localhost:8080/",
          "height": 68
        },
        "outputId": "d774111a-e73b-4bd1-d154-5ae674fef510"
      },
      "source": [
        "n = int(input())\n",
        "a = list(map(int, input().split()))\n",
        "\n",
        "m = 0\n",
        "sum = 0\n",
        "p, _p, q, _q = 0, 0, 0, 0\n",
        "for i in range(n):\n",
        "    sum += a[i]\n",
        "    if sum <= 0:\n",
        "        sum = 0\n",
        "        p = i + 2\n",
        "        q = p\n",
        "    if sum > m:\n",
        "        m = sum\n",
        "        q = i + 1\n",
        "    else:\n",
        "        if sum == m and p < _p:\n",
        "            p = _p\n",
        "            q = _q\n",
        "    _p, _q = p, q\n",
        "print(str(p) + \" \" + str(q) + \" \" + str(m))\n",
        "\n"
      ],
      "execution_count": 4,
      "outputs": [
        {
          "output_type": "stream",
          "text": [
            "16\n",
            "2 -4 5 -8 4 -1 -1 1 1 1 -2 2 4 -6 9 -4\n",
            "5 15 12\n"
          ],
          "name": "stdout"
        }
      ]
    }
  ]
}