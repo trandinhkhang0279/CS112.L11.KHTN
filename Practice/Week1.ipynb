{
 "cells": [
  {
   "cell_type": "markdown",
   "source": [
    "# Nhóm N012 ([Chi tiết tại đây](https://github.com/trandinhkhang0279/CS112.L11.KHTN/blob/master/README.md))\n",
    "# BÀI TẬP TUẦN 1"
   ],
   "metadata": {
    "collapsed": false
   }
  },
  {
   "cell_type": "markdown",
   "source": [
    "# Bài toán: BOT\n",
    "## 1. [Đề bài](https://github.com/trandinhkhang0279/CS112.L11.KHTN/blob/master/Practice/Problem/W1_BOT.pdf)"
   ],
   "metadata": {
    "collapsed": false
   }
  },
  {
   "cell_type": "markdown",
   "metadata": {
    "colab_type": "text",
    "id": "QC6YmrHuheT_"
   },
   "source": [
    "## 2. Abstraction:\n",
    "> Tìm dãy con liên tiếp có tổng lớn nhất trong dãy a có n số nguyên ( $  1 \\le n \\le 10^6,  0 \\le \\mid a_i \\mid \\le 10^9, i = [1:n])$"
   ]
  },
  {
   "cell_type": "markdown",
   "metadata": {
    "colab_type": "text",
    "id": "XKxNzaq9iDis"
   },
   "source": [
    "## 3. Pattern Recognition:\n",
    "> Dynamic Programming"
   ]
  },
  {
   "cell_type": "markdown",
   "metadata": {
    "colab_type": "text",
    "id": "urQNLm41io1s"
   },
   "source": [
    "## 4. Algorithm designed"
   ]
  },
  {
   "cell_type": "markdown",
   "source": [
    "Nhập dữ liệu:\n",
    "\n",
    "\tDòng đầu tiên là số lượng phần tử dãy a (-> lưu vào biến n)\n",
    "\tDòng thứ 2 là dãy a (lưu vào một list a)\n",
    "Initialization:\n",
    "\n",
    "\tp <- 0 (vị trí phần tử đầu tiên của dãy con cần tìm trong dãy a)\n",
    "\tq <- 0 (vị trí phần từ cuối cùng của dãy con cần tìm trong dãy a)\n",
    "\t_p <- 0 (lưu giá trị của p trước lần p thay đổi sau cùng)\n",
    "\t_q <- 0 (lưu giá trị của q trước lần q thay đổi sau cùng)\n",
    "\tSum <- 0 (tổng lợi nhuận của dãy con từ phần tử nào đó tới phần tử i đang xét)\n",
    "\tMAX <- 0 (tổng lợi nhuận tối đa)\n",
    "LOOP for each index i of the array:\n",
    "\n",
    "\tSum <- Sum + a[i] (cộng phần tử thứ i của mảng vào biến Sum)\n",
    "\tIF Sum < 0: (kiểm tra tổng mảng con tới vị trí thứ i có âm hay không)\n",
    "\t\tSum <- 0 (nếu âm thì đặt tổng lại bằng 0)\n",
    "\t\tp <- p + 1 (đặt lại p,q tới vị trí tiếp theo tiếp tục duyệt)\n",
    "\t\tq <- q + 1\n",
    "\tIF Sum > MAX: (kiểm tra tổng mảng con tới vị trí thứ i có lớn hơn tổng mảng con lớn nhất trước đó)\n",
    "\t\tMAX = Sum (nếu có thì đặt tổng mảng con lớn nhất bằng tổng mảng con tới vị trí thứ i đang xét)\n",
    "\t\t_p = p (\n",
    "\t\t_q = i\n",
    "\tELIF Sum = MAX and p < _p: (nếu tổng mảng con tới vị trí thứ i bằng tổng mảng con lớn nhất trước đó thì lấy phần tử có p nhỏ nhất)\n",
    "\t\t_p = p\n",
    "\t\t_q = q\n",
    "PRINT Result:\n",
    "\n",
    "\t_p + 1\n",
    "\t_q + 1\n",
    "\tMAX"
   ],
   "metadata": {
    "collapsed": false,
    "pycharm": {
     "name": "#%% md\n"
    }
   }
  },
  {
   "cell_type": "markdown",
   "source": [
    "## 5. Programming\n"
   ],
   "metadata": {
    "collapsed": false
   }
  },
  {
   "cell_type": "code",
   "execution_count": null,
   "outputs": [],
   "source": [
    "n = int(input())\n",
    "a = list(map(int, input().split()))\n",
    "\n",
    "m = 0\n",
    "sum = 0\n",
    "p, q = 0, 0\n",
    "_p, _q = 0, 0\n",
    "for i in range(n):\n",
    "    sum += a[i]\n",
    "    if sum < 0:\n",
    "        sum = 0\n",
    "        p = i + 1\n",
    "        q = i + 1\n",
    "    if sum > m:\n",
    "        m = sum\n",
    "        _p, _q = p, i\n",
    "    elif sum == m and p < _p:\n",
    "        _p, _q = p, q\n",
    "print(str(_p + 1) + \" \" + str(_q + 1) + \" \" + str(m))"
   ],
   "metadata": {
    "collapsed": false,
    "pycharm": {
     "name": "#%%\n"
    }
   }
  }
 ],
 "metadata": {
  "colab": {
   "name": "Week1.ipynb",
   "provenance": []
  },
  "kernelspec": {
   "display_name": "Python 3",
   "language": "python",
   "name": "python3"
  },
  "language_info": {
   "codemirror_mode": {
    "name": "ipython",
    "version": 3
   },
   "file_extension": ".py",
   "mimetype": "text/x-python",
   "name": "python",
   "nbconvert_exporter": "python",
   "pygments_lexer": "ipython3",
   "version": "3.7.3"
  }
 },
 "nbformat": 4,
 "nbformat_minor": 1
}