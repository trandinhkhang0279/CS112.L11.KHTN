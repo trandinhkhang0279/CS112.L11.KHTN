{
 "cells": [
  {
   "cell_type": "markdown",
   "metadata": {
    "colab_type": "text",
    "id": "QC6YmrHuheT_"
   },
   "source": [
    "### 1. Abstraction: "
   ]
  },
  {
   "cell_type": "markdown",
   "metadata": {},
   "source": [
    "Tìm dãy con liên tiếp có tổng lớn nhất trong dãy a có n số nguyên ( $  1 \\le n \\le 10^6,  0 \\le \\mid a_i \\mid \\le 10^9, i = [1:n])$"
   ]
  },
  {
   "cell_type": "markdown",
   "metadata": {
    "colab_type": "text",
    "id": "XKxNzaq9iDis"
   },
   "source": [
    "### 2. Pattern Recognition: "
   ]
  },
  {
   "cell_type": "markdown",
   "metadata": {
    "colab_type": "text",
    "id": "urQNLm41io1s"
   },
   "source": [
    "### 3. Algorithm designed"
   ]
  },
  {
   "cell_type": "markdown",
   "metadata": {
    "colab_type": "text",
    "id": "WccjqN_ykCbr"
   },
   "source": [
    "### 4. Programming"
   ]
  },
  {
   "cell_type": "code",
   "execution_count": 5,
   "metadata": {
    "colab": {
     "base_uri": "https://localhost:8080/",
     "height": 68
    },
    "colab_type": "code",
    "id": "bFBqSDokkFs4",
    "outputId": "d774111a-e73b-4bd1-d154-5ae674fef510"
   },
   "outputs": [
    {
     "name": "stdout",
     "output_type": "stream",
     "text": [
      "1 4 6\n"
     ]
    }
   ],
   "source": [
    "n = int(input())\n",
    "a = list(map(int, input().split()))\n",
    "\n",
    "m = 0\n",
    "sum = 0\n",
    "b = [[0, 0]]\n",
    "p, q = 0, 0\n",
    "_p, _q = 0, 0\n",
    "for i in range(n):\n",
    "    sum += a[i]\n",
    "    if sum < 0:\n",
    "        sum = 0\n",
    "        p = i + 1\n",
    "        q = i + 1\n",
    "    if sum > m:\n",
    "        m = sum\n",
    "        _p, _q = p, i\n",
    "    elif sum == m and p < _p:\n",
    "        _p, _q = p, q\n",
    "print(str(_p + 1) + \" \" + str(_q + 1) + \" \" + str(m))\n",
    "\n"
   ]
  }
 ],
 "metadata": {
  "colab": {
   "name": "Week1.ipynb",
   "provenance": []
  },
  "kernelspec": {
   "display_name": "Python 3",
   "language": "python",
   "name": "python3"
  },
  "language_info": {
   "codemirror_mode": {
    "name": "ipython",
    "version": 3
   },
   "file_extension": ".py",
   "mimetype": "text/x-python",
   "name": "python",
   "nbconvert_exporter": "python",
   "pygments_lexer": "ipython3",
   "version": "3.7.3"
  }
 },
 "nbformat": 4,
 "nbformat_minor": 1
}
