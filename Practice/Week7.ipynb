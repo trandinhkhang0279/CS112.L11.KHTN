{
  "nbformat": 4,
  "nbformat_minor": 0,
  "metadata": {
    "kernelspec": {
      "display_name": "Python 3",
      "language": "python",
      "name": "python3"
    },
    "language_info": {
      "codemirror_mode": {
        "name": "ipython",
        "version": 3
      },
      "file_extension": ".py",
      "mimetype": "text/x-python",
      "name": "python",
      "nbconvert_exporter": "python",
      "pygments_lexer": "ipython3",
      "version": "3.7.3"
    },
    "colab": {
      "name": "Week7.ipynb",
      "provenance": []
    }
  },
  "cells": [
    {
      "cell_type": "markdown",
      "metadata": {
        "collapsed": true,
        "pycharm": {
          "name": "#%% md\n"
        },
        "id": "r5jbrswnKGZd"
      },
      "source": [
        "[![Open In Colab](https://colab.research.google.com/assets/colab-badge.svg)](https://colab.research.google.com/github/trandinhkhang0279/CS112.L11.KHTN/blob/master/Practice/Week8.ipynb)\n",
        "# Nhóm N012 ([Chi tiết tại đây](https://github.com/trandinhkhang0279/CS112.L11.KHTN/blob/master/README.md))\n",
        "\n",
        "* Trần Đình Khang-18520896\n",
        "* Phạm Xuân Trí-18521530\n",
        "* Trương Đức Vũ-18520194\n",
        "\n",
        "# BÀI TẬP TUẦN 8"
      ]
    },
    {
      "cell_type": "markdown",
      "metadata": {
        "pycharm": {
          "name": "#%% md\n"
        },
        "id": "ZrY7a-8ZKGZl"
      },
      "source": [
        "# Bài toán 1: PHÂN SỐ\n",
        "## 1. [Đề bài](https://github.com/trandinhkhang0279/CS112.L11.KHTN/blob/master/Practice/Problem/W8_Fraction.pdf)\n"
      ]
    },
    {
      "cell_type": "markdown",
      "metadata": {
        "id": "UOS7239eKGZm"
      },
      "source": [
        "## 2. Abstraction:\r\n",
        "Cho 2 phân số $\\frac{a}{b}$ và $\\frac{c}{d}$, sau mỗi bước, **a++ b++** rồi tối giản $\\frac{a}{b}$. Tìm số bước để đạt được phân số $\\frac{c}{d}$\r\n"
      ]
    },
    {
      "cell_type": "markdown",
      "metadata": {
        "id": "LqfM9ZVVKGZm"
      },
      "source": [
        "## 3. Pattern Recognition:\r\n",
        "Sau khi thực nghiệm, chúng em cho một biến chạy từ 0 đến 200000. Khi nào phân số biến đổi bằng $\\frac{c}{d}$ thì dừng lại. Nếu vẫn không bằng thì trả về giá trị 0.\r\n",
        "\r\n"
      ]
    },
    {
      "cell_type": "markdown",
      "metadata": {
        "id": "JlrHxh5zKGZm"
      },
      "source": [
        "## 4. Algorithm designed\n",
        "\n",
        "\n",
        "**Pseudocode:**\n",
        "\n",
        "def fraction (a, b, c, d)\n",
        "\n",
        "while x < 200000\n",
        "        \n",
        "m = $\\frac{a+1}{b+1}$ = $\\frac{A}{B}$\n",
        "\n",
        "a = A, b = B\n",
        "\n",
        "if $\\frac{A}{B}$ = $\\frac{c}{d}$\n",
        "\n",
        "    return x + 1\n",
        "\n",
        "return 0"
      ]
    },
    {
      "cell_type": "markdown",
      "metadata": {
        "id": "4t7fqwx3KGZn"
      },
      "source": [
        "## 5. Programming"
      ]
    },
    {
      "cell_type": "code",
      "metadata": {
        "id": "HBWpEUr0OOer",
        "outputId": "e3d89b22-0a24-4c28-a868-27ad7767dccf",
        "colab": {
          "base_uri": "https://localhost:8080/"
        }
      },
      "source": [
        "from fractions import Fraction\r\n",
        "\r\n",
        "\r\n",
        "def fractionx(a, b, c, d):\r\n",
        "    count = 0\r\n",
        "    x = 0\r\n",
        "    while x <= 200000:\r\n",
        "        m = Fraction(a + 1, b + 1) # tạo phân số (a+1)/(b+1)\r\n",
        "        a, b = m.numerator, m.denominator # lấy tử và mẫu số\r\n",
        "        count += 1\r\n",
        "        if a == c and b == d:\r\n",
        "            return count\r\n",
        "        x += 1\r\n",
        "    return 0\r\n",
        "\r\n",
        "a,b,c,d = list(map(int, (input().split())))\r\n",
        "\r\n",
        "# a = int(input())\r\n",
        "# b = int(input())\r\n",
        "# c = int(input())\r\n",
        "# d = int(input())\r\n",
        "print(fractionx(a, b, c, d))"
      ],
      "execution_count": 5,
      "outputs": [
        {
          "output_type": "stream",
          "text": [
            "1 6 2 3\n",
            "5\n"
          ],
          "name": "stdout"
        }
      ]
    },
    {
      "cell_type": "markdown",
      "metadata": {
        "id": "-borEYZhPGoP"
      },
      "source": [
        "![image.png](data:image/png;base64,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)"
      ]
    },
    {
      "cell_type": "markdown",
      "metadata": {
        "pycharm": {
          "name": "#%% md\n"
        },
        "id": "nn_vBrHmKGZn"
      },
      "source": [
        "# Bài toán 2: XÂU CON TƯƠNG ĐƯƠNG\n",
        "## 1. [Đề bài](https://github.com/trandinhkhang0279/CS112.L11.KHTN/blob/master/Practice/Problem/W8_Equivalent_substring.pdf)"
      ]
    },
    {
      "cell_type": "markdown",
      "metadata": {
        "id": "PMQk8kIDKGZn"
      },
      "source": [
        "## 2. Abstraction:\r\n",
        "Cho xâu s và q truy vấn, mỗi truy vấn gồm a, b, c, d. Nếu tồn tại hoán vị của s[a,b] và s[c,d] là như nhau thì xuất ra YES ngược lại NO.\r\n",
        "\r\n",
        "\r\n",
        "![image.png](data:image/png;base64,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)\r\n"
      ]
    },
    {
      "cell_type": "markdown",
      "metadata": {
        "id": "56o6RJciKGZn"
      },
      "source": [
        "## 3. Pattern Recognition:\r\n",
        "Ý tưởng là chuyển tất cả các ký tự thành số rồi tạo một list H. Tại mỗi ví trị, lưu tổng giá trị của các kí tự từ vị trí đó trở về trước.\r\n",
        "\r\n",
        "Khi thực hiện ta chỉ việc thực hiện phép trừ giữa 2 vị trí ra được một giá trị rồi đi so sánh.\r\n"
      ]
    },
    {
      "cell_type": "markdown",
      "metadata": {
        "id": "71SeFg9gKGZo"
      },
      "source": [
        "## 4. Algorithm designed\r\n"
      ]
    },
    {
      "cell_type": "code",
      "metadata": {
        "id": "QcYhIdSIYFw8"
      },
      "source": [
        "#Nhập S\r\n",
        "for c in S:\r\n",
        "    H.append(H[-1] + value_char(c))\r\n",
        "# Lấy giá trị của ký tự\r\n",
        "def value_char\r\n",
        "    return int(char)\r\n",
        "\r\n",
        "def value_chars\r\n",
        "    return H[right] - H[left - 1]\r\n",
        "\r\n",
        "if value_chars(a,b) == value_chars(c, d)\r\n",
        "    YES\r\n",
        "else NO"
      ],
      "execution_count": null,
      "outputs": []
    },
    {
      "cell_type": "markdown",
      "metadata": {
        "pycharm": {
          "name": "#%% md\n"
        },
        "id": "NUZGmoMfKGZo"
      },
      "source": [
        "## 5. Programming"
      ]
    },
    {
      "cell_type": "code",
      "metadata": {
        "id": "_uxUpeV9Vl4E",
        "outputId": "a0b45809-8d43-4005-ee27-dfd8985288d0",
        "colab": {
          "base_uri": "https://localhost:8080/"
        }
      },
      "source": [
        "from sys import stdin, stdout\r\n",
        "\r\n",
        "s = input()"
      ],
      "execution_count": 16,
      "outputs": [
        {
          "output_type": "stream",
          "text": [
            "abcbacaac\n"
          ],
          "name": "stdout"
        }
      ]
    },
    {
      "cell_type": "code",
      "metadata": {
        "id": "4WZu5P0hWBXY",
        "outputId": "3850c59d-2557-4cee-e3cd-2817120ea12e",
        "colab": {
          "base_uri": "https://localhost:8080/"
        }
      },
      "source": [
        "p = int(input())"
      ],
      "execution_count": 17,
      "outputs": [
        {
          "output_type": "stream",
          "text": [
            "2\n"
          ],
          "name": "stdout"
        }
      ]
    },
    {
      "cell_type": "code",
      "metadata": {
        "id": "07s4ksX1Tjzj",
        "outputId": "4b734d1d-0e16-4d7a-fef9-17f92a32b592",
        "colab": {
          "base_uri": "https://localhost:8080/"
        }
      },
      "source": [
        "#from sys import stdin, stdout\r\n",
        "\r\n",
        "#s = stdin.readline().strip()\r\n",
        "H = [0]\r\n",
        "\r\n",
        "def gen_hash(c):\r\n",
        "    return ord(c)**3\r\n",
        "def get_hash(l,r):\r\n",
        "    return H[r]-H[l-1]\r\n",
        "\r\n",
        "for c in s:\r\n",
        "    H.append(H[-1]+gen_hash(c))\r\n",
        "#p = int(input())\r\n",
        "for i in range(p):\r\n",
        "    a,b,c,d = map(int, input().split())\r\n",
        "    if get_hash(a,b)==get_hash(c,d):\r\n",
        "        print(\"YES\")\r\n",
        "    else:\r\n",
        "        print(\"NO\")"
      ],
      "execution_count": 20,
      "outputs": [
        {
          "output_type": "stream",
          "text": [
            "1 3 4 6\n",
            "YES\n",
            "1 3 5 7\n",
            "NO\n"
          ],
          "name": "stdout"
        }
      ]
    },
    {
      "cell_type": "markdown",
      "metadata": {
        "id": "C99jyeedWb7O"
      },
      "source": [
        "![image.png](data:image/png;base64,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)"
      ]
    }
  ]
}