{
 "cells": [
  {
   "cell_type": "markdown",
   "metadata": {
    "collapsed": true,
    "pycharm": {
     "name": "#%% md\n"
    }
   },
   "source": [
    "[![Open In Colab](https://colab.research.google.com/assets/colab-badge.svg)](https://colab.research.google.com/github/trandinhkhang0279/CS112.L11.KHTN/blob/master/Practice/Week9.ipynb)\n",
    "# Nhóm N012 ([Chi tiết tại đây](https://github.com/trandinhkhang0279/CS112.L11.KHTN/blob/master/README.md))\n",
    "\n",
    "* Trần Đình Khang - 18520896\n",
    "* Phạm Xuân Trí - 18521530\n",
    "* Trương Đức Vũ - 18520194\n",
    "\n",
    "# BÀI TẬP TUẦN 9"
   ]
  },
  {
   "cell_type": "markdown",
   "metadata": {
    "pycharm": {
     "name": "#%% md\n"
    }
   },
   "source": [
    "# Bài toán 1: SỐ NGUYÊN MỚI\n",
    "## 1. [Đề bài](https://github.com/trandinhkhang0279/CS112.L11.KHTN/blob/master/Practice/Problem/W9_The_new_integer.pdf)\n",
    "Cho số nguyên dương $N$ có không quá 100 chữ số.\n",
    "Hãy xác định số nguyên lớn nhất $M$ chia hết cho 3 và khác $N$ ở đúng một chữ số.\n",
    "Ví dụ, $N$ = 123 thì $M$ sẽ là 723.\n",
    "\n",
    "**_Dữ liệu:_** Vào từ thiết bị nhập chuẩn gồm một dòng chứa số nguyên $N$\n",
    "có không quá 100 chữ số và không chứa các số 0 không có nghĩa.\n",
    "\n",
    "**_Kết quả:_** Đưa ra thiết bị xuất chuẩn số nguyên $M$ tìm được.\n",
    "\n",
    "**_Ví dụ:_**\n",
    "\n",
    "INPUT | OUTPUT\n",
    "--- | ---\n",
    "123 | 723"
   ]
  },
  {
   "cell_type": "markdown",
   "metadata": {},
   "source": [
    "## 2. Abstraction:\n",
    "Tìm số nguyên dương $M$ chia hết cho 3 và khác số nguyên dương $N$ đúng một chữ số. $(0 < M, N < 10^{100})$"
   ]
  },
  {
   "cell_type": "markdown",
   "metadata": {},
   "source": [
    "## 3. Pattern Recognition:\n",
    "Duyệt trên chuỗi của số nguyên dương $N$"
   ]
  },
  {
   "cell_type": "markdown",
   "metadata": {},
   "source": [
    "## 4. Algorithm designed\n",
    "- Ngôn ngữ lập trình: Python\n",
    "- Cấu trúc dữ liệu: string\n",
    "- Giải thuật:\n",
    "    - Dùng 1 biến n_mod_3 để lưu giá trị tổng các chữ số của số $N$ chia phần dư cho 3, để xét xem cần thay đổi 1 chữ số trong số $N$ bao nhiêu thì thỏa mãn.\n",
    "    - Duyệt qua từng chữ số c của số $N$ từ hàng cao hơn tới hàng thấp hơn:\n",
    "        - Gán x = c + 3 - n_mod_3\n",
    "        - Nếu x < 10 thì:\n",
    "            - Gán x = x + (9 - x) // 3 * 3. # công thức đưa x về số lớn nhất chia hết cho 3.\n",
    "            - Trả về số N trong đó chữ số c thay bằng chữ số x.\n",
    "    - Nếu n_mod_3 = 0, tức là số N cho sẵn chia hết cho 3 thì ta chỉ cần giảm hàng đơn vị của số $N$ đi 3 thì sẽ thu được số $M$ thỏa mãn.\n",
    "    - Sau khi duyệt hết vòng lặp, nếu không thể cộng thêm được ở bất cứ chữ số nào trong $N$ thì ta sẽ tiến hành trừ đi ở hàng đơn vị của $N$.\n",
    "        - Trả về chữ số N trong đó hàng đơn vị giảm đi n_mod_3\n",
    "\n",
    "**Pseudocode:**\n",
    "\n",
    "    SET N_str to string(N)\n",
    "    SET N_mod_3 = sum(int(i) for i in n_str) mod 3\n",
    "    FOR each number in N_str\n",
    "        SET x To (number + 3 - n_mod_3)\n",
    "        IF x < 10 THEN\n",
    "            SET x To (x + (9 - x) div 3 * 3)\n",
    "            Display (N_str[0:i], x, N_str[i+1:n])\n",
    "            RETURN\n",
    "        ENDIF\n",
    "    ENDFOR\n",
    "\n",
    "    IF n_mod_3 == 0 THEN\n",
    "        Display (n_str[0:n-1], str(int(n_str[n-1]) - 3)\n",
    "        RETURN\n",
    "    ENDIF\n",
    "\n",
    "    Display (n_str[0:n-1], str(int(n_str[n-1]) - n_mod_3))\n",
    "    RETURN"
   ]
  },
  {
   "cell_type": "markdown",
   "metadata": {},
   "source": [
    "## 5. Programming\n",
    "```python\n",
    "def the_new_integer():\n",
    "    n_str = input()\n",
    "    n = len(n_str)\n",
    "    n_mod_3 = sum(int(i) for i in n_str) % 3\n",
    "\n",
    "    for i in range(n):\n",
    "        x = int(n_str[i]) + 3 - n_mod_3\n",
    "        if x < 10:\n",
    "            x = x + (9 - x) // 3 * 3\n",
    "            return n_str[0:i] + str(x) + n_str[i+1:n]\n",
    "\n",
    "    if n_mod_3 == 0:\n",
    "        return n_str[0:n-1] + str(int(n_str[n-1]) - 3)\n",
    "\n",
    "    return n_str[0:n-1] + str(int(n_str[n-1]) - n_mod_3)\n",
    "\n",
    "\n",
    "if __name__ == '__main__':\n",
    "    print(the_new_integer())\n",
    "```"
   ]
  },
  {
   "cell_type": "markdown",
   "metadata": {
    "pycharm": {
     "name": "#%% md\n"
    }
   },
   "source": [
    "# Bài toán 2: CON ĐƯỜNG GỐM SỨ\n",
    "## 1. [Đề bài](https://github.com/trandinhkhang0279/CS112.L11.KHTN/blob/master/Practice/Problem/W9_Ceramic_road.pdf)\n",
    "Sau khi bê tông hóa đê chống lụt, thành phố quyết định cho khảm lên tường bê tông của đê tranh ghép tạo bởi các mảnh\n",
    "gốm sứ lấy từ các lò gốm nổi tiếng trong nước.\n",
    "Toàn bộ con đê được chia thành n phần có độ rộng giống nhau, mỗi phần gọi là một lô.\n",
    "Mỗi bức tranh khảm trên đó đều phải có độ rộng giống nhau,\n",
    "tức là bao gồm một số như nhau các lô liên tiếp và toàn bộ tường phải được phủ kín tranh từ đầu đến cuối,\n",
    "mỗi lô phải được tạo màu chủ đạo (gọi là màu của lô) từ một loại gốm đặc trưng lấy từ một lò gốm nào đó trong nước,\n",
    "ví dụ gốm màu xanh Cô ban từ lò gốm Ánh Hồng Quảng Ninh, gốm da lươn – từ Bát Tràng Hà Nội,\n",
    "gốm mộc hồng nhạt – từ Biên Hòa Đồng Nai,... Các loại gốm này được đánh số từ $1$ đến $50 000$.\n",
    "\n",
    "Hướng dẫn viên du lịch giới thiệu với khách tham quan là có 2 nhóm nghệ nhân được giao việc tạo hình và khảm tranh.\n",
    "Với mỗi nhóm các bức tranh của đều được đặc trưng bởi dãy số ($c_1, c_2,..., c_k$), trong đó $k$ là độ rộng của tranh,\n",
    "$c_i$ – màu của lô, $i$ $ = 1 ÷ k$, các bức tranh khác nhau có thể khác nhau ở trình tự xuất hiện màu của các lô,\n",
    "ví dụ với dãy số đặc trưng $(2, 6, 2, 9)$,\n",
    "trình tự màu trong tranh có thể là $(9, 2, 2, 6)$ hoặc $(6, 9, 2, 2)$ nhưng không thể là $(6, 9, 2, 3)$.\n",
    "Dãy đặc trưng của $2$ nhóm là khác nhau, tức là không thể bằng phép hoán vị trình tự màu của lô để đưa một dãy về dãy kia.\n",
    "Các bức tranh được ghép với nhau rất hài hòa và khách tham quan không nhận biết được sự chuyển tiếp từ tranh này sang tranh khác.\n",
    "Tuy vậy nhiều khách tham quan vẫn muốn biết có bao nhiêu bức tranh đã tạo ra và trong đó số bức tranh của mỗi nhóm là bao nhiêu.\n",
    "\n",
    "_Hãy xác định số lượng tranh có thể có và số lượng tranh mỗi nhóm đã làm. biết rằng nhóm nào cũng có tranh của mình._\n",
    "\n",
    "**_Dữ liệu:_**\n",
    "- Dòng đầu tiên chứa một số nguyên $n$ – số lượng lô của con đê $2 \\le n \\le 10^5 $\n",
    "- Dòng thứ 2 chứa n số nguyên $a_1, a_2, . . ., a_n $ – màu của các lô $(1 \\le a_i \\le 50 000, i = 1 \\div n)$.\n",
    "\n",
    "**_Kết quả:_**\n",
    "- Dòng đầu tiên chứa số nguyên m – số lượng phương án khác nhau chia con đường thành các bức tranh,\n",
    "nếu không có cách phân chia để đảm bảo phân biệt tranh của đúng 2 nhóm thì đưa ra số -1.\n",
    "Nếu có cách phân biệt thì ở mỗi dòng tiếp theo đưa ra 3 số nguyên k, p và q – độ rộng bức tranh,\n",
    "số tranh do nhóm 1 thực hiện và số tranh do nhóm 2 thực hiện,\n",
    "thông tin đưa ra theo thứ tự tăng dần của k và ở mỗi dòng có $p \\ge q \\gt 0 $.\n",
    "\n",
    "**_Ví dụ:_**\n",
    "\n",
    "INPUT | OUTPUT\n",
    "--- | ---\n",
    "<p>9<br>1 2 3 6 4 9 3 1 2</p> | <p>1<br>3 2 1</p>"
   ]
  },
  {
   "cell_type": "markdown",
   "source": [
    "## 2. Abstraction:\n",
    "Cho N màu lô của con đê, các định xem có cách nào chia N màu lô này thành các bức tranh,\n",
    "một bức tranh gồm K lô liên tiếp bắt đầu từ lô đầu tiên với N%K=0. Sao cho cuối cùng chỉ có 2 loại bức tranh,\n",
    "2 bức tranh giống nhau là có thế hoán vị lô của bức tranh này để giống được bức tranh kia.\n",
    "Đếm số cách để chia theo yêu cầu trên."
   ],
   "metadata": {
    "collapsed": false
   }
  },
  {
   "cell_type": "markdown",
   "metadata": {},
   "source": [
    "## 3. Pattern Recognition:\n",
    "Cho a đếm số các chia thành K dãy con với độ dài bằng nhau sao cho chỉ còn 2 loại dãy có khác tính chất nhau.\n",
    "Hai dãy con X, Y tồn tại hoán vị X = y thì cùng tính chất."
   ]
  },
  {
   "cell_type": "markdown",
   "metadata": {},
   "source": [
    "## 4. Algorithm designed"
   ]
  },
  {
   "cell_type": "markdown",
   "metadata": {
    "pycharm": {
     "name": "#%% md\n"
    }
   },
   "source": [
    "## 5. Programming\n",
    "```python\n",
    "n = int(input().strip())\n",
    "a = list(map(int, input().strip().split()))\n",
    "\n",
    "H = [0] * (n+1)\n",
    "a = [0] + a\n",
    "\n",
    "for i in range(1,n+1):\n",
    "    H[i] = H[i-1] + a[i]*(a[i]+11)*(a[i]+17)\n",
    "\n",
    "def get_H(l,r):\n",
    "    return H[r]-H[l-1]\n",
    "\n",
    "ans = []\n",
    "\n",
    "def solve(x, ans):\n",
    "    n1 = 0\n",
    "    n2 = 0\n",
    "    s1 = -1\n",
    "    s2 = -1\n",
    "    for i in range(1, n+1, x):\n",
    "        s = get_H(i,i+x-1)\n",
    "        if s==s1 or s1==-1:\n",
    "            n1+=1\n",
    "            s1=s\n",
    "        elif s==s2 or s2==-1:\n",
    "            n2+=1\n",
    "            s2=s\n",
    "        else: return\n",
    "    if n1>0 and n2>0:\n",
    "        ans += [(x,n1,n2)]\n",
    "\n",
    "for i in range(1,n):\n",
    "    if n%i==0:\n",
    "        solve(i, ans)\n",
    "\n",
    "if len(ans)==0:\n",
    "    print(-1)\n",
    "else:\n",
    "    print(len(ans))\n",
    "    for x in ans:\n",
    "        print(*x)\n",
    "```"
   ]
  }
 ],
 "metadata": {
  "kernelspec": {
   "display_name": "Python 3",
   "language": "python",
   "name": "python3"
  },
  "language_info": {
   "codemirror_mode": {
    "name": "ipython",
    "version": 3
   },
   "file_extension": ".py",
   "mimetype": "text/x-python",
   "name": "python",
   "nbconvert_exporter": "python",
   "pygments_lexer": "ipython3",
   "version": "3.7.3"
  }
 },
 "nbformat": 4,
 "nbformat_minor": 1
}