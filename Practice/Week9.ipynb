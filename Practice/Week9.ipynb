{
 "cells": [
  {
   "cell_type": "markdown",
   "metadata": {
    "collapsed": true,
    "pycharm": {
     "name": "#%% md\n"
    }
   },
   "source": [
    "[![Open In Colab](https://colab.research.google.com/assets/colab-badge.svg)](https://colab.research.google.com/github/trandinhkhang0279/CS112.L11.KHTN/blob/master/Practice/Week10.ipynb)\n",
    "# Nhóm N012 ([Chi tiết tại đây](https://github.com/trandinhkhang0279/CS112.L11.KHTN/blob/master/README.md))\n",
    "\n",
    "* Trần Đình Khang-18520896\n",
    "* Phạm Xuân Trí-18521530\n",
    "* Trương Đức Vũ-18520194\n",
    "\n",
    "# BÀI TẬP TUẦN 10"
   ]
  },
  {
   "cell_type": "markdown",
   "metadata": {
    "pycharm": {
     "name": "#%% md\n"
    }
   },
   "source": [
    "# Bài toán 1: PHẦN THƯỞNG\n",
    "## 1. [Đề bài](https://github.com/trandinhkhang0279/CS112.L11.KHTN/blob/master/Practice/Problem/W10_Reward.pdf)\n"
   ]
  },
  {
   "cell_type": "markdown",
   "metadata": {},
   "source": [
    "## 2. Abstraction:"
   ]
  },
  {
   "cell_type": "markdown",
   "metadata": {},
   "source": [
    "## 3. Pattern Recognition:"
   ]
  },
  {
   "cell_type": "markdown",
   "metadata": {},
   "source": [
    "## 4. Algorithm designed\n",
    "\n",
    "\n",
    "**Pseudocode:**\n"
   ]
  },
  {
   "cell_type": "markdown",
   "metadata": {},
   "source": [
    "## 5. Programming"
   ]
  },
  {
   "cell_type": "markdown",
   "metadata": {
    "pycharm": {
     "name": "#%% md\n"
    }
   },
   "source": [
    "# Bài toán 2: ĐÈN LED\n",
    "## 1. [Đề bài](https://github.com/trandinhkhang0279/CS112.L11.KHTN/blob/master/Practice/Problem/W10_Led_light.pdf)\n",
    "Alice vừa hoàn thành một hợp đồng lắp bảng hiển thị số bằng đèn LED. Mỗi chữ số được hiển thị trong một khung chữ nhật với 7 ống đèn LED. Bằng cách bật các ống đèn LED thích hợp ta có thể hiển thị chữ số bất kỳ. Số đèn sáng càng nhiều thì việc hiển thị chữ số đó càng tốn năng lượng. Ví dụ, hiển thị chữ số 9 sẽ tốn năng lượng hơn hiển thị chữ số 7.\n",
    "![Led](\"https://github.com/trandinhkhang0279/CS112.L11.KHTN/blob/master/Practice/ImageWecode/Den_Led.png\")\n",
    "Sau khi bàn giao sản phẩm trong tay Alice còn thừa lại một số khá nhiều các khung hiển thị số và một cục pin nguồn. Dung lượng pin cho phép bật sáng n ống đèn LED. Alice muốn dùng pin bật đúng n ống đèn để hiển thị một số và số hiển thị được phải có tổng chữ số là lớn nhất.\n",
    "\n",
    "Hãy xác định tổng lớn nhất của các chữ số của số có thể bật sáng.\n",
    "**Input:**  Vào từ thiết bị nhập chuẩn gồm một dòng chứa số nguyên $\\textbf{n}, (2 ≤ \\textbf{n} ≤ 10^6 )$  \n",
    "**Output:** Đưa ra thiết bị xuất chuẩn một số nguyên – tổng lớn nhất đạt được."
   ]
  },
  {
   "cell_type": "markdown",
   "metadata": {},
   "source": [
    "## 2. Abstraction:"
   ]
  },
  {
   "cell_type": "markdown",
   "metadata": {},
   "source": [
    "## 3. Pattern Recognition:"
   ]
  },
  {
   "cell_type": "markdown",
   "metadata": {},
   "source": [
    "## 4. Algorithm designed"
   ]
  },
  {
   "cell_type": "markdown",
   "metadata": {
    "pycharm": {
     "name": "#%% md\n"
    }
   },
   "source": [
    "## 5. Programming"
   ]
  }
 ],
 "metadata": {
  "kernelspec": {
   "display_name": "Python 3",
   "language": "python",
   "name": "python3"
  },
  "language_info": {
   "codemirror_mode": {
    "name": "ipython",
    "version": 3
   },
   "file_extension": ".py",
   "mimetype": "text/x-python",
   "name": "python",
   "nbconvert_exporter": "python",
   "pygments_lexer": "ipython3",
   "version": "3.7.3"
  }
 },
 "nbformat": 4,
 "nbformat_minor": 1
}
